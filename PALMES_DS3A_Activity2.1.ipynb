{
 "cells": [
  {
   "cell_type": "markdown",
   "id": "aec645c4",
   "metadata": {},
   "source": [
    "# Activity No. 2.1"
   ]
  },
  {
   "cell_type": "markdown",
   "id": "d375b4df",
   "metadata": {},
   "source": [
    "**DS311 -  Exploratory Data Analysis** <br>\n",
    "Faculty: Ms. Angelie P. Sabanal\n",
    "\n",
    "Name of Student: Jhibsam B. Palmes <br>\n",
    "Section: DS3A"
   ]
  },
  {
   "cell_type": "markdown",
   "id": "06c74419",
   "metadata": {},
   "source": [
    "### In your Jupyter Notebook, perform the following activities:\n",
    "1. Select your own dataset. Ensure that the dataset contains both continuous and\n",
    "categorical variables.\n",
    "2. Choose two (2) continuous variables and perform bivariate analysis on the dataset. Make\n",
    "sure to explain each process and results.\n",
    "3. On a separate .ipynb file, choose another two (2) variables (one – categorical, one –\n",
    "continuous) on the same dataset that you choose. Perform bivariate analysis on these\n",
    "variables. Make sure to explain each process and results.\n",
    "4. Submit a separate PDF file and .ipynb file for items 2 & 3.\n",
    "5. Click this [link](https://docs.google.com/forms/d/e/1FAIpQLSfTAQb5_XpKq-KfNA3FpjKQzbktgBYzQBhV1z5ORjudJavoCQ/viewform) to submit your outputs for item no. 2.  \n",
    "Use this [link](https://docs.google.com/forms/d/e/1FAIpQLScuHgBOfusLpSv2ssbEJceAXwPAlJ9XpY7ZgkqValSjym4qXw/viewform) in submitting your outputs for item no. 3."
   ]
  },
  {
   "cell_type": "markdown",
   "id": "737a45b7",
   "metadata": {},
   "source": [
    "### 0. Import libraries needed for data analysis."
   ]
  },
  {
   "cell_type": "code",
   "execution_count": 1,
   "id": "2361da88",
   "metadata": {},
   "outputs": [],
   "source": [
    "#importing libraries\n",
    "import numpy as np\n",
    "import pandas as pd\n",
    "import matplotlib.pyplot as plt\n",
    "import seaborn as sns\n",
    "import warnings\n",
    "warnings.filterwarnings('ignore', category=UserWarning, module='openpyxl')\n",
    "%matplotlib inline"
   ]
  },
  {
   "cell_type": "markdown",
   "id": "646b0ab4",
   "metadata": {},
   "source": [
    "%matplotlib inline in above code snippet allows us to view our graphs in jupyter notebook itself."
   ]
  },
  {
   "cell_type": "markdown",
   "id": "4f8178af",
   "metadata": {},
   "source": [
    "### 1. Select your own dataset. Ensure that the dataset contains both continuous and categorical variables."
   ]
  },
  {
   "cell_type": "code",
   "execution_count": 28,
   "id": "a127b3de",
   "metadata": {},
   "outputs": [],
   "source": [
    "#loading data\n",
    "loan = pd.read_csv('loan.csv')"
   ]
  },
  {
   "cell_type": "markdown",
   "id": "5e51e4d2",
   "metadata": {},
   "source": [
    "### 2. Choose two (2) continuous variables and perform bivariate analysis on the dataset. Make sure to explain each process and results."
   ]
  },
  {
   "cell_type": "code",
   "execution_count": 26,
   "id": "1e396503",
   "metadata": {},
   "outputs": [
    {
     "name": "stdout",
     "output_type": "stream",
     "text": [
      "    Loan_ID Gender Married Dependents     Education Self_Employed  \\\n",
      "0  LP001015   Male     Yes          0      Graduate            No   \n",
      "1  LP001022   Male     Yes          1      Graduate            No   \n",
      "2  LP001031   Male     Yes          2      Graduate            No   \n",
      "3  LP001035   Male     Yes          2      Graduate            No   \n",
      "4  LP001051   Male      No          0  Not Graduate            No   \n",
      "\n",
      "   ApplicantIncome  CoapplicantIncome  LoanAmount  Loan_Amount_Term  \\\n",
      "0             5720                  0       110.0             360.0   \n",
      "1             3076               1500       126.0             360.0   \n",
      "2             5000               1800       208.0             360.0   \n",
      "3             2340               2546       100.0             360.0   \n",
      "4             3276                  0        78.0             360.0   \n",
      "\n",
      "   Credit_History Property_Area  \n",
      "0             1.0         Urban  \n",
      "1             1.0         Urban  \n",
      "2             1.0         Urban  \n",
      "3             NaN         Urban  \n",
      "4             1.0         Urban  \n",
      "__________________________________________________________________________________________\n",
      "       ApplicantIncome  CoapplicantIncome  LoanAmount  Loan_Amount_Term  \\\n",
      "count       367.000000         367.000000  362.000000        361.000000   \n",
      "mean       4805.599455        1569.577657  136.132597        342.537396   \n",
      "std        4910.685399        2334.232099   61.366652         65.156643   \n",
      "min           0.000000           0.000000   28.000000          6.000000   \n",
      "25%        2864.000000           0.000000  100.250000        360.000000   \n",
      "50%        3786.000000        1025.000000  125.000000        360.000000   \n",
      "75%        5060.000000        2430.500000  158.000000        360.000000   \n",
      "max       72529.000000       24000.000000  550.000000        480.000000   \n",
      "\n",
      "       Credit_History  \n",
      "count      338.000000  \n",
      "mean         0.825444  \n",
      "std          0.380150  \n",
      "min          0.000000  \n",
      "25%          1.000000  \n",
      "50%          1.000000  \n",
      "75%          1.000000  \n",
      "max          1.000000  \n",
      "__________________________________________________________________________________________\n",
      "<class 'pandas.core.frame.DataFrame'>\n",
      "RangeIndex: 367 entries, 0 to 366\n",
      "Data columns (total 12 columns):\n",
      " #   Column             Non-Null Count  Dtype  \n",
      "---  ------             --------------  -----  \n",
      " 0   Loan_ID            367 non-null    object \n",
      " 1   Gender             356 non-null    object \n",
      " 2   Married            367 non-null    object \n",
      " 3   Dependents         357 non-null    object \n",
      " 4   Education          367 non-null    object \n",
      " 5   Self_Employed      344 non-null    object \n",
      " 6   ApplicantIncome    367 non-null    int64  \n",
      " 7   CoapplicantIncome  367 non-null    int64  \n",
      " 8   LoanAmount         362 non-null    float64\n",
      " 9   Loan_Amount_Term   361 non-null    float64\n",
      " 10  Credit_History     338 non-null    float64\n",
      " 11  Property_Area      367 non-null    object \n",
      "dtypes: float64(3), int64(2), object(7)\n",
      "memory usage: 34.5+ KB\n",
      "None\n"
     ]
    }
   ],
   "source": [
    "#descriptive statistics\n",
    "print(loan.head())\n",
    "print('_'*90)\n",
    "print(loan.describe())\n",
    "print('_'*90)\n",
    "print(loan.info())"
   ]
  },
  {
   "cell_type": "markdown",
   "id": "a5489400",
   "metadata": {},
   "source": [
    "**I used .head(), .describe(), and .info() in getting the descriptive statistics of the dataset.**"
   ]
  },
  {
   "cell_type": "code",
   "execution_count": 17,
   "id": "f08f8fd2",
   "metadata": {},
   "outputs": [
    {
     "data": {
      "image/png": "[encoded data removed]",
      "text/plain": [
       "<Figure size 432x288 with 1 Axes>"
      ]
     },
     "metadata": {
      "needs_background": "light"
     },
     "output_type": "display_data"
    }
   ],
   "source": [
    "#plotting\n",
    "plt.scatter(loan[\"ApplicantIncome\"], loan[\"LoanAmount\"])         \n",
    "plt.title(\"Applicant Income vs LoanAmount\")\n",
    "plt.xlabel(\"Applicant Income\")\n",
    "plt.ylabel(\"Loan Amount\")\n",
    "plt.show()"
   ]
  },
  {
   "cell_type": "markdown",
   "id": "b29c4c25",
   "metadata": {},
   "source": [
    "**I used scatter plot for visual inspection and to understand the general relationship between the two variables. Applicant Income and Loan Amount are both continunous variables. The plot shows a positive correlation, meaning that the higher the applicant's income, they loan higher amount.**"
   ]
  },
  {
   "cell_type": "code",
   "execution_count": 18,
   "id": "e9a9a74c",
   "metadata": {},
   "outputs": [
    {
     "name": "stdout",
     "output_type": "stream",
     "text": [
      "Correlation between X and Y: 0.49345057821560667\n"
     ]
    }
   ],
   "source": [
    "#correlation\n",
    "correlation = loan['ApplicantIncome'].corr(loan['LoanAmount'])\n",
    "print(\"Correlation between X and Y:\", correlation)"
   ]
  },
  {
   "cell_type": "markdown",
   "id": "053deedd",
   "metadata": {},
   "source": [
    "**To check the correlation between the two variables, it showed that it is 0.49, meaning there is a moderate positive linear relationship between the two variables.**"
   ]
  }
 ],
 "metadata": {
  "kernelspec": {
   "display_name": "Python 3",
   "language": "python",
   "name": "python3"
  },
  "language_info": {
   "codemirror_mode": {
    "name": "ipython",
    "version": 3
   },
   "file_extension": ".py",
   "mimetype": "text/x-python",
   "name": "python",
   "nbconvert_exporter": "python",
   "pygments_lexer": "ipython3",
   "version": "3.8.8"
  }
 },
 "nbformat": 4,
 "nbformat_minor": 5
}
