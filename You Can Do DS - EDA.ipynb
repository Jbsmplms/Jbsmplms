{
 "cells": [
  {
   "cell_type": "markdown",
   "id": "b789c1a1",
   "metadata": {},
   "source": [
    "# You Can Do DS"
   ]
  },
  {
   "cell_type": "markdown",
   "id": "21b5a18c",
   "metadata": {},
   "source": [
    "Topic: **Exploratory Data Analysis** <br>\n",
    "Speaker: **Jhibsam B. Palmes**"
   ]
  },
  {
   "cell_type": "markdown",
   "id": "4bea5c62",
   "metadata": {},
   "source": [
    "### Table of Contents:"
   ]
  },
  {
   "cell_type": "markdown",
   "id": "f6d68bae",
   "metadata": {},
   "source": [
    "1. **EDA 101** <br>\n",
    "2. **Univariate Analysis** <br>\n",
    "3. **Bivariate Analysis**"
   ]
  },
  {
   "cell_type": "markdown",
   "id": "4a47891c",
   "metadata": {},
   "source": [
    "## `EDA 101`"
   ]
  },
  {
   "cell_type": "markdown",
   "id": "b50d0260",
   "metadata": {},
   "source": [
    "EDA is the process of summarizing the main characteristics of a dataset, often with the help of `visual` and `statistical methods`. The primary goal of EDA is to **understand the data and discover patterns, relationships, anomalies, and insights that can inform further analysis.**"
   ]
  },
  {
   "cell_type": "markdown",
   "id": "ad5fbd2f",
   "metadata": {},
   "source": [
    "### Steps and Procedure:"
   ]
  },
  {
   "cell_type": "markdown",
   "id": "cdb7e3cd",
   "metadata": {},
   "source": [
    "**Data Collection:** Gather the data from various sources, such as databases, spreadsheets, or APIs. Ensure you have a clear understanding of the dataset's structure and what each column represents. <br>\n",
    "  <br>\n",
    "**Data Cleaning:** Before diving into analysis, clean the data to handle missing values, duplicates, and outliers. This step ensures that your analysis is based on reliable data. <br>\n",
    "  <br>\n",
    "**Summary Statistics:** Calculate basic summary statistics like mean, median, standard deviation, minimum, and maximum values for each numerical variable. This provides an initial overview of the data's central tendencies and variability. <br>\n",
    "  <br>\n",
    "**Data Visualization:** Create various plots and charts to visually explore the data. Some common visualizations include histograms, box plots, scatter plots, bar charts, and line graphs. Visualization helps in understanding the distribution of data, relationships between variables, and potential patterns or trends. <br>\n",
    "  <br>\n",
    "**Identify relationships and correlations:** Use scatter plots and correlation matrices to identify relationships between variables and determine the strength and direction of the correlation. <br>\n",
    "  <br>\n",
    "**Iterate:** EDA is an iterative process, so don't be afraid to go back and revisit your analysis if you discover something new that you want to investigate.  "
   ]
  },
  {
   "cell_type": "markdown",
   "id": "0a51abe8",
   "metadata": {},
   "source": [
    "**Import libraries needed for data analysis**"
   ]
  },
  {
   "cell_type": "code",
   "execution_count": 76,
   "id": "75148984",
   "metadata": {},
   "outputs": [],
   "source": [
    "import pandas as pd\n",
    "import matplotlib.pyplot as plt\n",
    "import seaborn as sns\n",
    "import warnings\n",
    "warnings.filterwarnings('ignore')"
   ]
  },
  {
   "cell_type": "markdown",
   "id": "5de8fa1f",
   "metadata": {},
   "source": [
    "### Data Collection"
   ]
  },
  {
   "cell_type": "code",
   "execution_count": 77,
   "id": "794e082f",
   "metadata": {},
   "outputs": [],
   "source": [
    "df = pd.read_csv('loan.csv')"
   ]
  },
  {
   "cell_type": "markdown",
   "id": "59180487",
   "metadata": {},
   "source": [
    "### Summary Statistics"
   ]
  },
  {
   "cell_type": "code",
   "execution_count": 78,
   "id": "8c854129",
   "metadata": {},
   "outputs": [
    {
     "name": "stdout",
     "output_type": "stream",
     "text": [
      "<class 'pandas.core.frame.DataFrame'>\n",
      "RangeIndex: 620 entries, 0 to 619\n",
      "Data columns (total 14 columns):\n",
      " #   Column             Non-Null Count  Dtype  \n",
      "---  ------             --------------  -----  \n",
      " 0   Unnamed: 0         620 non-null    int64  \n",
      " 1   Loan_ID            620 non-null    object \n",
      " 2   Gender             607 non-null    object \n",
      " 3   Married            617 non-null    object \n",
      " 4   Dependents         605 non-null    object \n",
      " 5   Education          620 non-null    object \n",
      " 6   Self_Employed      587 non-null    object \n",
      " 7   ApplicantIncome    620 non-null    int64  \n",
      " 8   CoapplicantIncome  620 non-null    float64\n",
      " 9   LoanAmount         598 non-null    float64\n",
      " 10  Loan_Amount_Term   606 non-null    float64\n",
      " 11  Credit_History     569 non-null    float64\n",
      " 12  Property_Area      620 non-null    object \n",
      " 13  Loan_Status        620 non-null    object \n",
      "dtypes: float64(4), int64(2), object(8)\n",
      "memory usage: 67.9+ KB\n"
     ]
    }
   ],
   "source": [
    "df.info()"
   ]
  },
  {
   "cell_type": "code",
   "execution_count": 79,
   "id": "04fbbddb",
   "metadata": {},
   "outputs": [
    {
     "data": {
      "text/html": [
       "<div>\n",
       "<style scoped>\n",
       "    .dataframe tbody tr th:only-of-type {\n",
       "        vertical-align: middle;\n",
       "    }\n",
       "\n",
       "    .dataframe tbody tr th {\n",
       "        vertical-align: top;\n",
       "    }\n",
       "\n",
       "    .dataframe thead th {\n",
       "        text-align: right;\n",
       "    }\n",
       "</style>\n",
       "<table border=\"1\" class=\"dataframe\">\n",
       "  <thead>\n",
       "    <tr style=\"text-align: right;\">\n",
       "      <th></th>\n",
       "      <th>Unnamed: 0</th>\n",
       "      <th>Loan_ID</th>\n",
       "      <th>Gender</th>\n",
       "      <th>Married</th>\n",
       "      <th>Dependents</th>\n",
       "      <th>Education</th>\n",
       "      <th>Self_Employed</th>\n",
       "      <th>ApplicantIncome</th>\n",
       "      <th>CoapplicantIncome</th>\n",
       "      <th>LoanAmount</th>\n",
       "      <th>Loan_Amount_Term</th>\n",
       "      <th>Credit_History</th>\n",
       "      <th>Property_Area</th>\n",
       "      <th>Loan_Status</th>\n",
       "    </tr>\n",
       "  </thead>\n",
       "  <tbody>\n",
       "    <tr>\n",
       "      <th>0</th>\n",
       "      <td>0</td>\n",
       "      <td>LP001002</td>\n",
       "      <td>Male</td>\n",
       "      <td>No</td>\n",
       "      <td>0</td>\n",
       "      <td>Graduate</td>\n",
       "      <td>No</td>\n",
       "      <td>58490</td>\n",
       "      <td>0.0</td>\n",
       "      <td>NaN</td>\n",
       "      <td>360.0</td>\n",
       "      <td>1.0</td>\n",
       "      <td>Urban</td>\n",
       "      <td>Y</td>\n",
       "    </tr>\n",
       "    <tr>\n",
       "      <th>1</th>\n",
       "      <td>1</td>\n",
       "      <td>LP001003</td>\n",
       "      <td>Male</td>\n",
       "      <td>Yes</td>\n",
       "      <td>1</td>\n",
       "      <td>Graduate</td>\n",
       "      <td>No</td>\n",
       "      <td>45830</td>\n",
       "      <td>15080.0</td>\n",
       "      <td>1280000.0</td>\n",
       "      <td>360.0</td>\n",
       "      <td>1.0</td>\n",
       "      <td>Rural</td>\n",
       "      <td>N</td>\n",
       "    </tr>\n",
       "    <tr>\n",
       "      <th>2</th>\n",
       "      <td>2</td>\n",
       "      <td>LP001005</td>\n",
       "      <td>Male</td>\n",
       "      <td>Yes</td>\n",
       "      <td>0</td>\n",
       "      <td>Graduate</td>\n",
       "      <td>Yes</td>\n",
       "      <td>30000</td>\n",
       "      <td>0.0</td>\n",
       "      <td>660000.0</td>\n",
       "      <td>360.0</td>\n",
       "      <td>1.0</td>\n",
       "      <td>Urban</td>\n",
       "      <td>Y</td>\n",
       "    </tr>\n",
       "    <tr>\n",
       "      <th>3</th>\n",
       "      <td>3</td>\n",
       "      <td>LP001006</td>\n",
       "      <td>Male</td>\n",
       "      <td>Yes</td>\n",
       "      <td>0</td>\n",
       "      <td>Not Graduate</td>\n",
       "      <td>No</td>\n",
       "      <td>25830</td>\n",
       "      <td>23580.0</td>\n",
       "      <td>1200000.0</td>\n",
       "      <td>360.0</td>\n",
       "      <td>1.0</td>\n",
       "      <td>Urban</td>\n",
       "      <td>Y</td>\n",
       "    </tr>\n",
       "    <tr>\n",
       "      <th>4</th>\n",
       "      <td>4</td>\n",
       "      <td>LP001008</td>\n",
       "      <td>Male</td>\n",
       "      <td>No</td>\n",
       "      <td>0</td>\n",
       "      <td>Graduate</td>\n",
       "      <td>No</td>\n",
       "      <td>60000</td>\n",
       "      <td>0.0</td>\n",
       "      <td>1410000.0</td>\n",
       "      <td>360.0</td>\n",
       "      <td>1.0</td>\n",
       "      <td>Urban</td>\n",
       "      <td>Y</td>\n",
       "    </tr>\n",
       "  </tbody>\n",
       "</table>\n",
       "</div>"
      ],
      "text/plain": [
       "   Unnamed: 0   Loan_ID Gender Married Dependents     Education Self_Employed  \\\n",
       "0           0  LP001002   Male      No          0      Graduate            No   \n",
       "1           1  LP001003   Male     Yes          1      Graduate            No   \n",
       "2           2  LP001005   Male     Yes          0      Graduate           Yes   \n",
       "3           3  LP001006   Male     Yes          0  Not Graduate            No   \n",
       "4           4  LP001008   Male      No          0      Graduate            No   \n",
       "\n",
       "   ApplicantIncome  CoapplicantIncome  LoanAmount  Loan_Amount_Term  \\\n",
       "0            58490                0.0         NaN             360.0   \n",
       "1            45830            15080.0   1280000.0             360.0   \n",
       "2            30000                0.0    660000.0             360.0   \n",
       "3            25830            23580.0   1200000.0             360.0   \n",
       "4            60000                0.0   1410000.0             360.0   \n",
       "\n",
       "   Credit_History Property_Area Loan_Status  \n",
       "0             1.0         Urban           Y  \n",
       "1             1.0         Rural           N  \n",
       "2             1.0         Urban           Y  \n",
       "3             1.0         Urban           Y  \n",
       "4             1.0         Urban           Y  "
      ]
     },
     "execution_count": 79,
     "metadata": {},
     "output_type": "execute_result"
    }
   ],
   "source": [
    "df.head()"
   ]
  },
  {
   "cell_type": "code",
   "execution_count": 80,
   "id": "2845da60",
   "metadata": {
    "scrolled": true
   },
   "outputs": [
    {
     "data": {
      "text/html": [
       "<div>\n",
       "<style scoped>\n",
       "    .dataframe tbody tr th:only-of-type {\n",
       "        vertical-align: middle;\n",
       "    }\n",
       "\n",
       "    .dataframe tbody tr th {\n",
       "        vertical-align: top;\n",
       "    }\n",
       "\n",
       "    .dataframe thead th {\n",
       "        text-align: right;\n",
       "    }\n",
       "</style>\n",
       "<table border=\"1\" class=\"dataframe\">\n",
       "  <thead>\n",
       "    <tr style=\"text-align: right;\">\n",
       "      <th></th>\n",
       "      <th>Unnamed: 0</th>\n",
       "      <th>ApplicantIncome</th>\n",
       "      <th>CoapplicantIncome</th>\n",
       "      <th>LoanAmount</th>\n",
       "      <th>Loan_Amount_Term</th>\n",
       "      <th>Credit_History</th>\n",
       "    </tr>\n",
       "  </thead>\n",
       "  <tbody>\n",
       "    <tr>\n",
       "      <th>count</th>\n",
       "      <td>620.000000</td>\n",
       "      <td>620.000000</td>\n",
       "      <td>620.000000</td>\n",
       "      <td>5.980000e+02</td>\n",
       "      <td>606.000000</td>\n",
       "      <td>569.000000</td>\n",
       "    </tr>\n",
       "    <tr>\n",
       "      <th>mean</th>\n",
       "      <td>303.730645</td>\n",
       "      <td>53908.483871</td>\n",
       "      <td>16179.143871</td>\n",
       "      <td>1.460385e+06</td>\n",
       "      <td>341.782178</td>\n",
       "      <td>0.841828</td>\n",
       "    </tr>\n",
       "    <tr>\n",
       "      <th>std</th>\n",
       "      <td>178.742692</td>\n",
       "      <td>60861.304704</td>\n",
       "      <td>29136.617959</td>\n",
       "      <td>8.541896e+05</td>\n",
       "      <td>65.442363</td>\n",
       "      <td>0.365223</td>\n",
       "    </tr>\n",
       "    <tr>\n",
       "      <th>min</th>\n",
       "      <td>0.000000</td>\n",
       "      <td>1500.000000</td>\n",
       "      <td>0.000000</td>\n",
       "      <td>9.000000e+04</td>\n",
       "      <td>12.000000</td>\n",
       "      <td>0.000000</td>\n",
       "    </tr>\n",
       "    <tr>\n",
       "      <th>25%</th>\n",
       "      <td>148.750000</td>\n",
       "      <td>28757.500000</td>\n",
       "      <td>0.000000</td>\n",
       "      <td>1.000000e+06</td>\n",
       "      <td>360.000000</td>\n",
       "      <td>1.000000</td>\n",
       "    </tr>\n",
       "    <tr>\n",
       "      <th>50%</th>\n",
       "      <td>303.500000</td>\n",
       "      <td>38060.000000</td>\n",
       "      <td>11490.000000</td>\n",
       "      <td>1.275000e+06</td>\n",
       "      <td>360.000000</td>\n",
       "      <td>1.000000</td>\n",
       "    </tr>\n",
       "    <tr>\n",
       "      <th>75%</th>\n",
       "      <td>458.250000</td>\n",
       "      <td>57850.000000</td>\n",
       "      <td>22877.500000</td>\n",
       "      <td>1.677500e+06</td>\n",
       "      <td>360.000000</td>\n",
       "      <td>1.000000</td>\n",
       "    </tr>\n",
       "    <tr>\n",
       "      <th>max</th>\n",
       "      <td>613.000000</td>\n",
       "      <td>810000.000000</td>\n",
       "      <td>416670.000000</td>\n",
       "      <td>7.000000e+06</td>\n",
       "      <td>480.000000</td>\n",
       "      <td>1.000000</td>\n",
       "    </tr>\n",
       "  </tbody>\n",
       "</table>\n",
       "</div>"
      ],
      "text/plain": [
       "       Unnamed: 0  ApplicantIncome  CoapplicantIncome    LoanAmount  \\\n",
       "count  620.000000       620.000000         620.000000  5.980000e+02   \n",
       "mean   303.730645     53908.483871       16179.143871  1.460385e+06   \n",
       "std    178.742692     60861.304704       29136.617959  8.541896e+05   \n",
       "min      0.000000      1500.000000           0.000000  9.000000e+04   \n",
       "25%    148.750000     28757.500000           0.000000  1.000000e+06   \n",
       "50%    303.500000     38060.000000       11490.000000  1.275000e+06   \n",
       "75%    458.250000     57850.000000       22877.500000  1.677500e+06   \n",
       "max    613.000000    810000.000000      416670.000000  7.000000e+06   \n",
       "\n",
       "       Loan_Amount_Term  Credit_History  \n",
       "count        606.000000      569.000000  \n",
       "mean         341.782178        0.841828  \n",
       "std           65.442363        0.365223  \n",
       "min           12.000000        0.000000  \n",
       "25%          360.000000        1.000000  \n",
       "50%          360.000000        1.000000  \n",
       "75%          360.000000        1.000000  \n",
       "max          480.000000        1.000000  "
      ]
     },
     "execution_count": 80,
     "metadata": {},
     "output_type": "execute_result"
    }
   ],
   "source": [
    "df.describe()"
   ]
  },
  {
   "cell_type": "markdown",
   "id": "9cd40236",
   "metadata": {},
   "source": [
    "### Data Visualization"
   ]
  },
  {
   "cell_type": "markdown",
   "id": "eb7b0ce5",
   "metadata": {},
   "source": [
    "## `Univariate Analysis`"
   ]
  },
  {
   "cell_type": "markdown",
   "id": "3427d8c5",
   "metadata": {},
   "source": [
    "Uni means single and variate means variable. Hence univariate means the *analysis of a single variable*. In univariate analysis, we are trying to analyse the pattern present in a single variable."
   ]
  },
  {
   "cell_type": "markdown",
   "id": "3e208994",
   "metadata": {},
   "source": [
    "![Uni](Picture1.png)"
   ]
  },
  {
   "cell_type": "markdown",
   "id": "b4ad3ca0",
   "metadata": {},
   "source": [
    "**Univariate Analysis for *Numeric Variables***"
   ]
  },
  {
   "cell_type": "markdown",
   "id": "76495ada",
   "metadata": {},
   "source": [
    "Univariate analysis of numerical variables can be performed using multiple methods.\n",
    "\n",
    "**Histogram:** Histogram is used to plot the graphical representation of a numerical variable. The x-axis represents the numeric data and y-axis represents the respective count of the data."
   ]
  },
  {
   "cell_type": "code",
   "execution_count": 81,
   "id": "1f9c74bc",
   "metadata": {},
   "outputs": [
    {
     "data": {
      "text/plain": [
       "Text(0, 0.5, 'Count')"
      ]
     },
     "execution_count": 81,
     "metadata": {},
     "output_type": "execute_result"
    },
    {
     "data": {
      "image/png": "[encoded data removed]",
      "text/plain": [
       "<Figure size 432x288 with 1 Axes>"
      ]
     },
     "metadata": {
      "needs_background": "light"
     },
     "output_type": "display_data"
    }
   ],
   "source": [
    "# Histogram using matplotlib\n",
    "plt.hist(df[\"Loan_Amount_Term\"])         \n",
    "plt.xlabel(\"Loan Amount Term\")\n",
    "plt.ylabel(\"Count\")"
   ]
  },
  {
   "cell_type": "code",
   "execution_count": 82,
   "id": "a1757f46",
   "metadata": {},
   "outputs": [
    {
     "data": {
      "text/plain": [
       "<AxesSubplot:xlabel='Loan_Amount_Term', ylabel='Count'>"
      ]
     },
     "execution_count": 82,
     "metadata": {},
     "output_type": "execute_result"
    },
    {
     "data": {
      "image/png": "[encoded data removed]",
      "text/plain": [
       "<Figure size 432x288 with 1 Axes>"
      ]
     },
     "metadata": {
      "needs_background": "light"
     },
     "output_type": "display_data"
    }
   ],
   "source": [
    "# Histogram using \n",
    "sns.histplot(df, x='Loan_Amount_Term')"
   ]
  },
  {
   "cell_type": "markdown",
   "id": "33cbe053",
   "metadata": {},
   "source": [
    "**Box plot:** Box plot is created to get the summary of variable ie. minimum, first quartile, median, 3rd quartile and maximum."
   ]
  },
  {
   "cell_type": "code",
   "execution_count": 83,
   "id": "46d9b9d5",
   "metadata": {},
   "outputs": [
    {
     "data": {
      "text/plain": [
       "{'whiskers': [<matplotlib.lines.Line2D at 0x219da77adc0>,\n",
       "  <matplotlib.lines.Line2D at 0x219da78a160>],\n",
       " 'caps': [<matplotlib.lines.Line2D at 0x219da78a4c0>,\n",
       "  <matplotlib.lines.Line2D at 0x219da78a820>],\n",
       " 'boxes': [<matplotlib.lines.Line2D at 0x219da77aa60>],\n",
       " 'medians': [<matplotlib.lines.Line2D at 0x219da78ab80>],\n",
       " 'fliers': [<matplotlib.lines.Line2D at 0x219da78aee0>],\n",
       " 'means': []}"
      ]
     },
     "execution_count": 83,
     "metadata": {},
     "output_type": "execute_result"
    },
    {
     "data": {
      "image/png": "[encoded data removed]",
      "text/plain": [
       "<Figure size 432x288 with 1 Axes>"
      ]
     },
     "metadata": {
      "needs_background": "light"
     },
     "output_type": "display_data"
    }
   ],
   "source": [
    "# Box plot using matplotlib\n",
    "plt.boxplot(df[\"ApplicantIncome\"])"
   ]
  },
  {
   "cell_type": "code",
   "execution_count": 84,
   "id": "d17d7664",
   "metadata": {},
   "outputs": [
    {
     "data": {
      "text/plain": [
       "<AxesSubplot:xlabel='ApplicantIncome'>"
      ]
     },
     "execution_count": 84,
     "metadata": {},
     "output_type": "execute_result"
    },
    {
     "data": {
      "image/png": "[encoded data removed]",
      "text/plain": [
       "<Figure size 432x288 with 1 Axes>"
      ]
     },
     "metadata": {
      "needs_background": "light"
     },
     "output_type": "display_data"
    }
   ],
   "source": [
    "# Box plot using seaborn\n",
    "sns.boxplot(df[\"ApplicantIncome\"])"
   ]
  },
  {
   "cell_type": "markdown",
   "id": "96213b43",
   "metadata": {},
   "source": [
    "**Violin plot:** A violin plot is a combination of a box plot and a histogram"
   ]
  },
  {
   "cell_type": "code",
   "execution_count": 85,
   "id": "d844830c",
   "metadata": {},
   "outputs": [
    {
     "data": {
      "text/plain": [
       "{'bodies': [<matplotlib.collections.PolyCollection at 0x219da840790>],\n",
       " 'cmaxes': <matplotlib.collections.LineCollection at 0x219da8405e0>,\n",
       " 'cmins': <matplotlib.collections.LineCollection at 0x219da840640>,\n",
       " 'cbars': <matplotlib.collections.LineCollection at 0x219da840a00>}"
      ]
     },
     "execution_count": 85,
     "metadata": {},
     "output_type": "execute_result"
    },
    {
     "data": {
      "image/png": "[encoded data removed]",
      "text/plain": [
       "<Figure size 432x288 with 1 Axes>"
      ]
     },
     "metadata": {
      "needs_background": "light"
     },
     "output_type": "display_data"
    }
   ],
   "source": [
    "# Violin plot using matplotlib\n",
    "plt.violinplot(df[\"CoapplicantIncome\"]) "
   ]
  },
  {
   "cell_type": "code",
   "execution_count": 86,
   "id": "217b8d37",
   "metadata": {},
   "outputs": [
    {
     "data": {
      "text/plain": [
       "<AxesSubplot:xlabel='CoapplicantIncome'>"
      ]
     },
     "execution_count": 86,
     "metadata": {},
     "output_type": "execute_result"
    },
    {
     "data": {
      "image/png": "[encoded data removed]",
      "text/plain": [
       "<Figure size 432x288 with 1 Axes>"
      ]
     },
     "metadata": {
      "needs_background": "light"
     },
     "output_type": "display_data"
    }
   ],
   "source": [
    "# Violin plot using seaborn\n",
    "sns.violinplot(df[\"CoapplicantIncome\"])"
   ]
  },
  {
   "cell_type": "markdown",
   "id": "d3115f67",
   "metadata": {},
   "source": [
    "**Univariate Analysis for *Categorical Variables***"
   ]
  },
  {
   "cell_type": "markdown",
   "id": "10dc9200",
   "metadata": {},
   "source": [
    "Univariate analysis of categorical variables can be performed using the following methods\n",
    "\n",
    "**Count plot:** The count plot is similar to the histogram. But unlike histogram count plot represents frequency distribution of categorical data."
   ]
  },
  {
   "cell_type": "code",
   "execution_count": 87,
   "id": "30f83d3e",
   "metadata": {},
   "outputs": [
    {
     "data": {
      "text/plain": [
       "<AxesSubplot:xlabel='Gender', ylabel='count'>"
      ]
     },
     "execution_count": 87,
     "metadata": {},
     "output_type": "execute_result"
    },
    {
     "data": {
      "image/png": "[encoded data removed]",
      "text/plain": [
       "<Figure size 432x288 with 1 Axes>"
      ]
     },
     "metadata": {
      "needs_background": "light"
     },
     "output_type": "display_data"
    }
   ],
   "source": [
    "# Count plot using seaborn\n",
    "sns.countplot(data=df, x=\"Gender\")"
   ]
  },
  {
   "cell_type": "markdown",
   "id": "75a71b4c",
   "metadata": {},
   "source": [
    "**Bar graph:** A bar graph can also be used to represent the frequency distribution of categorical variable"
   ]
  },
  {
   "cell_type": "code",
   "execution_count": 88,
   "id": "46d9db97",
   "metadata": {},
   "outputs": [
    {
     "data": {
      "image/png": "[encoded data removed]",
      "text/plain": [
       "<Figure size 432x288 with 1 Axes>"
      ]
     },
     "metadata": {
      "needs_background": "light"
     },
     "output_type": "display_data"
    }
   ],
   "source": [
    "# Bar graph using matplotlib\n",
    "gender_counts = df['Gender'].value_counts()\n",
    "plt.bar(gender_counts.index, gender_counts.values)\n",
    "plt.title(\"Gender Distribution\")\n",
    "plt.xlabel(\"Gender\")\n",
    "plt.ylabel(\"Count\")\n",
    "plt.show()"
   ]
  },
  {
   "cell_type": "code",
   "execution_count": 89,
   "id": "11a6ba1f",
   "metadata": {},
   "outputs": [
    {
     "data": {
      "text/plain": [
       "<AxesSubplot:>"
      ]
     },
     "execution_count": 89,
     "metadata": {},
     "output_type": "execute_result"
    },
    {
     "data": {
      "image/png": "[encoded data removed]",
      "text/plain": [
       "<Figure size 432x288 with 1 Axes>"
      ]
     },
     "metadata": {
      "needs_background": "light"
     },
     "output_type": "display_data"
    }
   ],
   "source": [
    "# Bar graph using seaborn\n",
    "sns.barplot(data=df, x=gender_counts.index, y=gender_counts.values)"
   ]
  },
  {
   "cell_type": "markdown",
   "id": "8da5ef03",
   "metadata": {},
   "source": [
    "**Piechart:** A piechart is a circular graph that is divided into slices like pies in order to represent numerical proportions of a variable"
   ]
  },
  {
   "cell_type": "code",
   "execution_count": 90,
   "id": "2506efe2",
   "metadata": {},
   "outputs": [
    {
     "data": {
      "text/plain": [
       "Text(0.5, 1.0, 'Dependents Distribution')"
      ]
     },
     "execution_count": 90,
     "metadata": {},
     "output_type": "execute_result"
    },
    {
     "data": {
      "image/png": "[encoded data removed]",
      "text/plain": [
       "<Figure size 432x288 with 1 Axes>"
      ]
     },
     "metadata": {},
     "output_type": "display_data"
    }
   ],
   "source": [
    "# Pie chart using matplotlib\n",
    "dependents = df['Dependents'].value_counts()\n",
    "plt.pie(dependents.values, labels=dependents.index, autopct='%1.1f%%')\n",
    "plt.title(\"Dependents Distribution\")"
   ]
  },
  {
   "cell_type": "markdown",
   "id": "476cee45",
   "metadata": {},
   "source": [
    "## `Bivariate Analysis`"
   ]
  },
  {
   "cell_type": "markdown",
   "id": "cfbb0baa",
   "metadata": {},
   "source": [
    "Bi means two and variate means variable. Hence bivariate means the *analysis of two variables*. Using bivariate analysis we can find how well the variables are correlated. Bivariate analysis is of 3 types."
   ]
  },
  {
   "cell_type": "markdown",
   "id": "d2e5442f",
   "metadata": {},
   "source": [
    "![Bi](Picture2.png)"
   ]
  },
  {
   "cell_type": "markdown",
   "id": "7531f012",
   "metadata": {},
   "source": [
    "**Bivariate Analysis of *Numerical Variables***"
   ]
  },
  {
   "cell_type": "markdown",
   "id": "5a9506a7",
   "metadata": {},
   "source": [
    "**Scatterplot:** Scatterplot uses dots to represent the relationship between two numeric variables."
   ]
  },
  {
   "cell_type": "code",
   "execution_count": 91,
   "id": "af2b7b67",
   "metadata": {},
   "outputs": [
    {
     "data": {
      "image/png": "[encoded data removed]",
      "text/plain": [
       "<Figure size 432x288 with 1 Axes>"
      ]
     },
     "metadata": {
      "needs_background": "light"
     },
     "output_type": "display_data"
    }
   ],
   "source": [
    "# Scatter plot using matplotlib\n",
    "plt.scatter(df[\"ApplicantIncome\"], df[\"LoanAmount\"])         \n",
    "plt.title(\"Scatter Plot of Applicant Income vs LoanAmount\")\n",
    "plt.xlabel(\"ApplicantIncome\")\n",
    "plt.ylabel(\"LoanAmount\")\n",
    "plt.show()"
   ]
  },
  {
   "cell_type": "code",
   "execution_count": 92,
   "id": "2d42934b",
   "metadata": {},
   "outputs": [
    {
     "data": {
      "text/plain": [
       "Text(0, 0.5, 'LoanAmount')"
      ]
     },
     "execution_count": 92,
     "metadata": {},
     "output_type": "execute_result"
    },
    {
     "data": {
      "image/png": "[encoded data removed]",
      "text/plain": [
       "<Figure size 432x288 with 1 Axes>"
      ]
     },
     "metadata": {
      "needs_background": "light"
     },
     "output_type": "display_data"
    }
   ],
   "source": [
    "# Scatter plot using Seaborn\n",
    "sns.scatterplot(data=df, x=\"ApplicantIncome\", y=\"LoanAmount\")         \n",
    "plt.title(\"Scatter Plot of Applicant Income vs LoanAmount\")\n",
    "plt.xlabel(\"ApplicantIncome\")\n",
    "plt.ylabel(\"LoanAmount\")"
   ]
  },
  {
   "cell_type": "markdown",
   "id": "33b869a1",
   "metadata": {},
   "source": [
    "**Join plot:** As the name joint plot suggests join plot joins bivariate and univariate graphs. Using the parameter kind we can mention the kind of plot to draw (ie. scatter, hex, hist, kde, reg, resid)"
   ]
  },
  {
   "cell_type": "code",
   "execution_count": 93,
   "id": "80c894e9",
   "metadata": {},
   "outputs": [
    {
     "data": {
      "text/plain": [
       "Text(0.5, 0.98, 'Joint Plot of Loan Amount & Applicant Income')"
      ]
     },
     "execution_count": 93,
     "metadata": {},
     "output_type": "execute_result"
    },
    {
     "data": {
      "image/png": "[encoded data removed]",
      "text/plain": [
       "<Figure size 432x432 with 3 Axes>"
      ]
     },
     "metadata": {
      "needs_background": "light"
     },
     "output_type": "display_data"
    }
   ],
   "source": [
    "# Joint plot using Seaborn\n",
    "sns.jointplot(data=df ,x=\"LoanAmount\", y=\"ApplicantIncome\", kind=\"scatter\")\n",
    "plt.suptitle(\"Joint Plot of Loan Amount & Applicant Income\")"
   ]
  },
  {
   "cell_type": "markdown",
   "id": "201985bc",
   "metadata": {},
   "source": [
    "**Bivariate Analysis of *Categorical Variables***"
   ]
  },
  {
   "cell_type": "markdown",
   "id": "bb46f4eb",
   "metadata": {},
   "source": [
    "**Count plot:** Using the hue parameter we can analyse two categorical variables in a count plot."
   ]
  },
  {
   "cell_type": "code",
   "execution_count": 94,
   "id": "6fdb13da",
   "metadata": {},
   "outputs": [
    {
     "data": {
      "text/plain": [
       "<AxesSubplot:xlabel='Education', ylabel='count'>"
      ]
     },
     "execution_count": 94,
     "metadata": {},
     "output_type": "execute_result"
    },
    {
     "data": {
      "image/png": "[encoded data removed]",
      "text/plain": [
       "<Figure size 432x288 with 1 Axes>"
      ]
     },
     "metadata": {
      "needs_background": "light"
     },
     "output_type": "display_data"
    }
   ],
   "source": [
    "# Count plot using seaborn\n",
    "sns.countplot(data=df, x=\"Education\", hue=\"Loan_Status\")"
   ]
  },
  {
   "cell_type": "code",
   "execution_count": 95,
   "id": "10cbd501",
   "metadata": {},
   "outputs": [],
   "source": [
    "remove = ['graduate']\n",
    "df = df[~df['Education'].isin(remove)]"
   ]
  },
  {
   "cell_type": "code",
   "execution_count": 96,
   "id": "5da029d7",
   "metadata": {},
   "outputs": [
    {
     "data": {
      "text/plain": [
       "<AxesSubplot:xlabel='Education', ylabel='count'>"
      ]
     },
     "execution_count": 96,
     "metadata": {},
     "output_type": "execute_result"
    },
    {
     "data": {
      "image/png": "[encoded data removed]",
      "text/plain": [
       "<Figure size 432x288 with 1 Axes>"
      ]
     },
     "metadata": {
      "needs_background": "light"
     },
     "output_type": "display_data"
    }
   ],
   "source": [
    "# Count plot using seaborn\n",
    "sns.countplot(data=df, x=\"Education\", hue=\"Loan_Status\")"
   ]
  },
  {
   "cell_type": "markdown",
   "id": "b2453212",
   "metadata": {},
   "source": [
    "**Bivariate Analysis of *Numerical & Categorical Variable***"
   ]
  },
  {
   "cell_type": "markdown",
   "id": "f3e4bfa4",
   "metadata": {},
   "source": [
    "**Barplot:** Using x and y parameter we can find the relationship between a numeric and categorical variable"
   ]
  },
  {
   "cell_type": "code",
   "execution_count": 97,
   "id": "55a8977b",
   "metadata": {},
   "outputs": [
    {
     "data": {
      "text/plain": [
       "<AxesSubplot:xlabel='Gender', ylabel='ApplicantIncome'>"
      ]
     },
     "execution_count": 97,
     "metadata": {},
     "output_type": "execute_result"
    },
    {
     "data": {
      "image/png": "[encoded data removed]",
      "text/plain": [
       "<Figure size 432x288 with 1 Axes>"
      ]
     },
     "metadata": {
      "needs_background": "light"
     },
     "output_type": "display_data"
    }
   ],
   "source": [
    "# Bar plot using seaborn\n",
    "sns.barplot(data=df, x=\"Gender\", y=\"ApplicantIncome\")"
   ]
  },
  {
   "cell_type": "markdown",
   "id": "c853ad62",
   "metadata": {},
   "source": [
    "**Box plot:** Using x and y parameter we can find the relationship between a numeric and categorical variable."
   ]
  },
  {
   "cell_type": "code",
   "execution_count": 98,
   "id": "651af095",
   "metadata": {},
   "outputs": [
    {
     "data": {
      "text/plain": [
       "<AxesSubplot:xlabel='Self_Employed', ylabel='ApplicantIncome'>"
      ]
     },
     "execution_count": 98,
     "metadata": {},
     "output_type": "execute_result"
    },
    {
     "data": {
      "image/png": "[encoded data removed]",
      "text/plain": [
       "<Figure size 432x288 with 1 Axes>"
      ]
     },
     "metadata": {
      "needs_background": "light"
     },
     "output_type": "display_data"
    }
   ],
   "source": [
    "# Box plot using seaborn\n",
    "sns.boxplot(data=df, x=\"Self_Employed\", y=\"ApplicantIncome\")"
   ]
  },
  {
   "cell_type": "markdown",
   "id": "f850754a",
   "metadata": {},
   "source": [
    "**Violin plot:** Using x and y parameter we can find the relationship between a numeric and categorical variable in violin plot."
   ]
  },
  {
   "cell_type": "code",
   "execution_count": 99,
   "id": "c0dc2346",
   "metadata": {},
   "outputs": [
    {
     "data": {
      "text/plain": [
       "<AxesSubplot:xlabel='Property_Area', ylabel='LoanAmount'>"
      ]
     },
     "execution_count": 99,
     "metadata": {},
     "output_type": "execute_result"
    },
    {
     "data": {
      "image/png": "[encoded data removed]",
      "text/plain": [
       "<Figure size 432x288 with 1 Axes>"
      ]
     },
     "metadata": {
      "needs_background": "light"
     },
     "output_type": "display_data"
    }
   ],
   "source": [
    "# Violin plot using seaborn\n",
    "sns.violinplot(data=df, x=\"Property_Area\", y=\"LoanAmount\")"
   ]
  },
  {
   "cell_type": "markdown",
   "id": "2550c73c",
   "metadata": {},
   "source": [
    "**Displot:** Displot plots the relationship between numeric and categorical variable. Using the parameter kind we can mention the kind of plot to draw (ie. hist, kde)"
   ]
  },
  {
   "cell_type": "code",
   "execution_count": 100,
   "id": "3fcaafe3",
   "metadata": {},
   "outputs": [
    {
     "data": {
      "text/plain": [
       "<seaborn.axisgrid.FacetGrid at 0x219dbec2d30>"
      ]
     },
     "execution_count": 100,
     "metadata": {},
     "output_type": "execute_result"
    },
    {
     "data": {
      "image/png": "[encoded data removed]",
      "text/plain": [
       "<Figure size 412x360 with 1 Axes>"
      ]
     },
     "metadata": {
      "needs_background": "light"
     },
     "output_type": "display_data"
    }
   ],
   "source": [
    "# Displot using seaborn\n",
    "sns.displot(data=df, x= \"ApplicantIncome\", hue=\"Married\", kind=\"kde\")"
   ]
  }
 ],
 "metadata": {
  "kernelspec": {
   "display_name": "Python 3",
   "language": "python",
   "name": "python3"
  },
  "language_info": {
   "codemirror_mode": {
    "name": "ipython",
    "version": 3
   },
   "file_extension": ".py",
   "mimetype": "text/x-python",
   "name": "python",
   "nbconvert_exporter": "python",
   "pygments_lexer": "ipython3",
   "version": "3.8.8"
  }
 },
 "nbformat": 4,
 "nbformat_minor": 5
}
