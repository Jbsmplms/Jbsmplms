{
 "cells": [
  {
   "cell_type": "markdown",
   "id": "cb87ba87-827a-407b-9999-da31a24f0a24",
   "metadata": {},
   "source": [
    "# **📜 DMA Final Project Notebook**\n",
    "\n",
    "**Group # & Name:** Group 5 - Red Wine Pirates <br/>\n",
    "**Course:** Data Mining and Application <br/>\n",
    "**Program & Section:** BS in Data Science - DS3A"
   ]
  },
  {
   "cell_type": "markdown",
   "id": "0cbe13e9-9285-4325-aa6b-b5e16ff2f318",
   "metadata": {},
   "source": [
    "## **📩 Introduction**\n",
    "\n",

    "**Context**\n",
    "\n",
    "The two datasets are related to red and white variants of the Portuguese \"Vinho Verde\" wine. For more details, consult the reference [Cortez et al., 2009]. Due to privacy and logistic issues, only physicochemical (inputs) and sensory (the output) variables are available (e.g. there is no data about grape types, wine brand, wine selling price, etc.).\n",
    "\n",
    "These datasets can be viewed as classification or regression tasks. The classes are ordered and not balanced (e.g. there are much more normal wines than excellent or poor ones).\n",
    "\n",
    "We will train 6 classification models and evaluate them by implementing hold-out set method and k-fold cross validation. We will also explore the dataset by applying data preprocessing techniques to optimize the training models.\n",
    "\n",
    "**Data**\n",
    "\n",
    "Input variables (based on physicochemical tests): <br>\n",
    "1 - fixed acidity <br>\n",
    "2 - volatile acidity <br>\n",
    "3 - citric acid <br>\n",
    "4 - residual sugar <br>\n",
    "5 - chlorides <br>\n",
    "6 - free sulfur dioxide <br>\n",
    "7 - total sulfur dioxide <br>\n",
    "8 - density <br>\n",
    "9 - pH <br>\n",
    "10 - sulphates <br>\n",
    "11 - alcohol <br>\n",
    " <br>\n",
    "Output variable (based on sensory data): <br>\n",
    "12 - quality (score between 0 and 10) <br>\n",
    "\n",
    "**Citation** \n",
    "\n",
    "UCI Machine Learning. (2017). Red Wine Quality. (<a href=\"https://www.kaggle.com/datasets/uciml/red-wine-quality-cortez-et-al-2009\">Kaggle.com</a>) <br>\n",
    "\n",
    "P. Cortez, A. Cerdeira, F. Almeida, T. Matos and J. Reis. Modeling wine preferences by data mining from physicochemical properties. <br>\n",
    "In Decision Support Systems, Elsevier, 47(4):547-553, 2009."
   ]
  },
  {
   "cell_type": "markdown",
   "id": "3588b29d",
   "metadata": {},
   "source": [
    "## **🔃 Import Necessary Libraries**"
   ]
  },
  {
   "cell_type": "code",
   "execution_count": 1,
   "id": "997aadca",
   "metadata": {},
   "outputs": [],
   "source": [
    "import pandas as pd\n",
    "import numpy as np\n",
    "import seaborn as sns\n",
    "import matplotlib.pyplot as plt\n",
    "\n",
    "from sklearn.tree import DecisionTreeClassifier\n",
    "from sklearn.neighbors import KNeighborsClassifier\n",
    "from sklearn.linear_model import LogisticRegression\n",
    "import sklearn.ensemble as ensemble\n",
    "\n",
    "from sklearn.preprocessing import StandardScaler\n",
    "from sklearn.model_selection import train_test_split as tts, cross_val_score as cvs\n",
    "from sklearn.metrics import accuracy_score, classification_report, roc_auc_score\n",
    "\n",
    "from imblearn.metrics import classification_report_imbalanced\n",
    "from imblearn.over_sampling import ADASYN\n",
    "\n",
    "import warnings\n",
    "warnings.filterwarnings(\"ignore\")"
   ]
  },
  {
   "cell_type": "markdown",
   "id": "6e61b779",
   "metadata": {},
   "source": [
    "### Load Dataset"
   ]
  },
  {
   "cell_type": "code",
   "execution_count": 2,
   "id": "522f2a87-112b-464e-aef6-f8caad0e2c24",
   "metadata": {},
   "outputs": [
    {
     "data": {
      "text/html": [
       "<div>\n",
       "<style scoped>\n",
       "    .dataframe tbody tr th:only-of-type {\n",
       "        vertical-align: middle;\n",
       "    }\n",
       "\n",
       "    .dataframe tbody tr th {\n",
       "        vertical-align: top;\n",
       "    }\n",
       "\n",
       "    .dataframe thead th {\n",
       "        text-align: right;\n",
       "    }\n",
       "</style>\n",
       "<table border=\"1\" class=\"dataframe\">\n",
       "  <thead>\n",
       "    <tr style=\"text-align: right;\">\n",
       "      <th></th>\n",
       "      <th>fixed acidity</th>\n",
       "      <th>volatile acidity</th>\n",
       "      <th>citric acid</th>\n",
       "      <th>residual sugar</th>\n",
       "      <th>chlorides</th>\n",
       "      <th>free sulfur dioxide</th>\n",
       "      <th>total sulfur dioxide</th>\n",
       "      <th>density</th>\n",
       "      <th>pH</th>\n",
       "      <th>sulphates</th>\n",
       "      <th>alcohol</th>\n",
       "      <th>quality</th>\n",
       "    </tr>\n",
       "  </thead>\n",
       "  <tbody>\n",
       "    <tr>\n",
       "      <th>0</th>\n",
       "      <td>7.4</td>\n",
       "      <td>0.700</td>\n",
       "      <td>0.00</td>\n",
       "      <td>1.9</td>\n",
       "      <td>0.076</td>\n",
       "      <td>11.0</td>\n",
       "      <td>34.0</td>\n",
       "      <td>0.99780</td>\n",
       "      <td>3.51</td>\n",
       "      <td>0.56</td>\n",
       "      <td>9.4</td>\n",
       "      <td>5</td>\n",
       "    </tr>\n",
       "    <tr>\n",
       "      <th>1</th>\n",
       "      <td>7.8</td>\n",
       "      <td>0.880</td>\n",
       "      <td>0.00</td>\n",
       "      <td>2.6</td>\n",
       "      <td>0.098</td>\n",
       "      <td>25.0</td>\n",
       "      <td>67.0</td>\n",
       "      <td>0.99680</td>\n",
       "      <td>3.20</td>\n",
       "      <td>0.68</td>\n",
       "      <td>9.8</td>\n",
       "      <td>5</td>\n",
       "    </tr>\n",
       "    <tr>\n",
       "      <th>2</th>\n",
       "      <td>7.8</td>\n",
       "      <td>0.760</td>\n",
       "      <td>0.04</td>\n",
       "      <td>2.3</td>\n",
       "      <td>0.092</td>\n",
       "      <td>15.0</td>\n",
       "      <td>54.0</td>\n",
       "      <td>0.99700</td>\n",
       "      <td>3.26</td>\n",
       "      <td>0.65</td>\n",
       "      <td>9.8</td>\n",
       "      <td>5</td>\n",
       "    </tr>\n",
       "    <tr>\n",
       "      <th>3</th>\n",
       "      <td>11.2</td>\n",
       "      <td>0.280</td>\n",
       "      <td>0.56</td>\n",
       "      <td>1.9</td>\n",
       "      <td>0.075</td>\n",
       "      <td>17.0</td>\n",
       "      <td>60.0</td>\n",
       "      <td>0.99800</td>\n",
       "      <td>3.16</td>\n",
       "      <td>0.58</td>\n",
       "      <td>9.8</td>\n",
       "      <td>6</td>\n",
       "    </tr>\n",
       "    <tr>\n",
       "      <th>4</th>\n",
       "      <td>7.4</td>\n",
       "      <td>0.700</td>\n",
       "      <td>0.00</td>\n",
       "      <td>1.9</td>\n",
       "      <td>0.076</td>\n",
       "      <td>11.0</td>\n",
       "      <td>34.0</td>\n",
       "      <td>0.99780</td>\n",
       "      <td>3.51</td>\n",
       "      <td>0.56</td>\n",
       "      <td>9.4</td>\n",
       "      <td>5</td>\n",
       "    </tr>\n",
       "    <tr>\n",
       "      <th>...</th>\n",
       "      <td>...</td>\n",
       "      <td>...</td>\n",
       "      <td>...</td>\n",
       "      <td>...</td>\n",
       "      <td>...</td>\n",
       "      <td>...</td>\n",
       "      <td>...</td>\n",
       "      <td>...</td>\n",
       "      <td>...</td>\n",
       "      <td>...</td>\n",
       "      <td>...</td>\n",
       "      <td>...</td>\n",
       "    </tr>\n",
       "    <tr>\n",
       "      <th>1594</th>\n",
       "      <td>6.2</td>\n",
       "      <td>0.600</td>\n",
       "      <td>0.08</td>\n",
       "      <td>2.0</td>\n",
       "      <td>0.090</td>\n",
       "      <td>32.0</td>\n",
       "      <td>44.0</td>\n",
       "      <td>0.99490</td>\n",
       "      <td>3.45</td>\n",
       "      <td>0.58</td>\n",
       "      <td>10.5</td>\n",
       "      <td>5</td>\n",
       "    </tr>\n",
       "    <tr>\n",
       "      <th>1595</th>\n",
       "      <td>5.9</td>\n",
       "      <td>0.550</td>\n",
       "      <td>0.10</td>\n",
       "      <td>2.2</td>\n",
       "      <td>0.062</td>\n",
       "      <td>39.0</td>\n",
       "      <td>51.0</td>\n",
       "      <td>0.99512</td>\n",
       "      <td>3.52</td>\n",
       "      <td>0.76</td>\n",
       "      <td>11.2</td>\n",
       "      <td>6</td>\n",
       "    </tr>\n",
       "    <tr>\n",
       "      <th>1596</th>\n",
       "      <td>6.3</td>\n",
       "      <td>0.510</td>\n",
       "      <td>0.13</td>\n",
       "      <td>2.3</td>\n",
       "      <td>0.076</td>\n",
       "      <td>29.0</td>\n",
       "      <td>40.0</td>\n",
       "      <td>0.99574</td>\n",
       "      <td>3.42</td>\n",
       "      <td>0.75</td>\n",
       "      <td>11.0</td>\n",
       "      <td>6</td>\n",
       "    </tr>\n",
       "    <tr>\n",
       "      <th>1597</th>\n",
       "      <td>5.9</td>\n",
       "      <td>0.645</td>\n",
       "      <td>0.12</td>\n",
       "      <td>2.0</td>\n",
       "      <td>0.075</td>\n",
       "      <td>32.0</td>\n",
       "      <td>44.0</td>\n",
       "      <td>0.99547</td>\n",
       "      <td>3.57</td>\n",
       "      <td>0.71</td>\n",
       "      <td>10.2</td>\n",
       "      <td>5</td>\n",
       "    </tr>\n",
       "    <tr>\n",
       "      <th>1598</th>\n",
       "      <td>6.0</td>\n",
       "      <td>0.310</td>\n",
       "      <td>0.47</td>\n",
       "      <td>3.6</td>\n",
       "      <td>0.067</td>\n",
       "      <td>18.0</td>\n",
       "      <td>42.0</td>\n",
       "      <td>0.99549</td>\n",
       "      <td>3.39</td>\n",
       "      <td>0.66</td>\n",
       "      <td>11.0</td>\n",
       "      <td>6</td>\n",
       "    </tr>\n",
       "  </tbody>\n",
       "</table>\n",
       "<p>1599 rows × 12 columns</p>\n",
       "</div>"
      ],
      "text/plain": [
       "      fixed acidity  volatile acidity  citric acid  residual sugar  chlorides  \\\n",
       "0               7.4             0.700         0.00             1.9      0.076   \n",
       "1               7.8             0.880         0.00             2.6      0.098   \n",
       "2               7.8             0.760         0.04             2.3      0.092   \n",
       "3              11.2             0.280         0.56             1.9      0.075   \n",
       "4               7.4             0.700         0.00             1.9      0.076   \n",
       "...             ...               ...          ...             ...        ...   \n",
       "1594            6.2             0.600         0.08             2.0      0.090   \n",
       "1595            5.9             0.550         0.10             2.2      0.062   \n",
       "1596            6.3             0.510         0.13             2.3      0.076   \n",
       "1597            5.9             0.645         0.12             2.0      0.075   \n",
       "1598            6.0             0.310         0.47             3.6      0.067   \n",
       "\n",
       "      free sulfur dioxide  total sulfur dioxide  density    pH  sulphates  \\\n",
       "0                    11.0                  34.0  0.99780  3.51       0.56   \n",
       "1                    25.0                  67.0  0.99680  3.20       0.68   \n",
       "2                    15.0                  54.0  0.99700  3.26       0.65   \n",
       "3                    17.0                  60.0  0.99800  3.16       0.58   \n",
       "4                    11.0                  34.0  0.99780  3.51       0.56   \n",
       "...                   ...                   ...      ...   ...        ...   \n",
       "1594                 32.0                  44.0  0.99490  3.45       0.58   \n",
       "1595                 39.0                  51.0  0.99512  3.52       0.76   \n",
       "1596                 29.0                  40.0  0.99574  3.42       0.75   \n",
       "1597                 32.0                  44.0  0.99547  3.57       0.71   \n",
       "1598                 18.0                  42.0  0.99549  3.39       0.66   \n",
       "\n",
       "      alcohol  quality  \n",
       "0         9.4        5  \n",
       "1         9.8        5  \n",
       "2         9.8        5  \n",
       "3         9.8        6  \n",
       "4         9.4        5  \n",
       "...       ...      ...  \n",
       "1594     10.5        5  \n",
       "1595     11.2        6  \n",
       "1596     11.0        6  \n",
       "1597     10.2        5  \n",
       "1598     11.0        6  \n",
       "\n",
       "[1599 rows x 12 columns]"
      ]
     },
     "execution_count": 2,
     "metadata": {},
     "output_type": "execute_result"
    }
   ],
   "source": [
    "df = pd.read_csv('wine quality.csv')\n",
    "df"
   ]
  },
  {
   "cell_type": "markdown",
   "id": "0837ac9e-af3f-4880-9776-7524dc1f01c1",
   "metadata": {},
   "source": [
    "## **🔎 Examine Dataset (EDA)**"
   ]
  },
  {
   "cell_type": "markdown",
   "id": "31bb8d23",
   "metadata": {},
   "source": [
    "### Descriptive Analysis"
   ]
  },
  {
   "cell_type": "code",
   "execution_count": 3,
   "id": "fcfa487b-f7dc-4d34-8b02-6e128d05183f",
   "metadata": {},
   "outputs": [
    {
     "name": "stdout",
     "output_type": "stream",
     "text": [
      "<class 'pandas.core.frame.DataFrame'>\n",
      "RangeIndex: 1599 entries, 0 to 1598\n",
      "Data columns (total 12 columns):\n",
      " #   Column                Non-Null Count  Dtype  \n",
      "---  ------                --------------  -----  \n",
      " 0   fixed acidity         1599 non-null   float64\n",
      " 1   volatile acidity      1599 non-null   float64\n",
      " 2   citric acid           1599 non-null   float64\n",
      " 3   residual sugar        1599 non-null   float64\n",
      " 4   chlorides             1599 non-null   float64\n",
      " 5   free sulfur dioxide   1599 non-null   float64\n",
      " 6   total sulfur dioxide  1599 non-null   float64\n",
      " 7   density               1599 non-null   float64\n",
      " 8   pH                    1599 non-null   float64\n",
      " 9   sulphates             1599 non-null   float64\n",
      " 10  alcohol               1599 non-null   float64\n",
      " 11  quality               1599 non-null   int64  \n",
      "dtypes: float64(11), int64(1)\n",
      "memory usage: 150.0 KB\n"
     ]
    }
   ],
   "source": [
    "df.info()"
   ]
  },
  {
   "cell_type": "code",
   "execution_count": 4,
   "id": "cd54c991",
   "metadata": {},
   "outputs": [
    {
     "data": {
      "text/html": [
       "<div>\n",
       "<style scoped>\n",
       "    .dataframe tbody tr th:only-of-type {\n",
       "        vertical-align: middle;\n",
       "    }\n",
       "\n",
       "    .dataframe tbody tr th {\n",
       "        vertical-align: top;\n",
       "    }\n",
       "\n",
       "    .dataframe thead th {\n",
       "        text-align: right;\n",
       "    }\n",
       "</style>\n",
       "<table border=\"1\" class=\"dataframe\">\n",
       "  <thead>\n",
       "    <tr style=\"text-align: right;\">\n",
       "      <th></th>\n",
       "      <th>count</th>\n",
       "      <th>mean</th>\n",
       "      <th>std</th>\n",
       "      <th>min</th>\n",
       "      <th>25%</th>\n",
       "      <th>50%</th>\n",
       "      <th>75%</th>\n",
       "      <th>max</th>\n",
       "    </tr>\n",
       "  </thead>\n",
       "  <tbody>\n",
       "    <tr>\n",
       "      <th>fixed acidity</th>\n",
       "      <td>1599.0</td>\n",
       "      <td>8.319637</td>\n",
       "      <td>1.741096</td>\n",
       "      <td>4.60000</td>\n",
       "      <td>7.1000</td>\n",
       "      <td>7.90000</td>\n",
       "      <td>9.200000</td>\n",
       "      <td>15.90000</td>\n",
       "    </tr>\n",
       "    <tr>\n",
       "      <th>volatile acidity</th>\n",
       "      <td>1599.0</td>\n",
       "      <td>0.527821</td>\n",
       "      <td>0.179060</td>\n",
       "      <td>0.12000</td>\n",
       "      <td>0.3900</td>\n",
       "      <td>0.52000</td>\n",
       "      <td>0.640000</td>\n",
       "      <td>1.58000</td>\n",
       "    </tr>\n",
       "    <tr>\n",
       "      <th>citric acid</th>\n",
       "      <td>1599.0</td>\n",
       "      <td>0.270976</td>\n",
       "      <td>0.194801</td>\n",
       "      <td>0.00000</td>\n",
       "      <td>0.0900</td>\n",
       "      <td>0.26000</td>\n",
       "      <td>0.420000</td>\n",
       "      <td>1.00000</td>\n",
       "    </tr>\n",
       "    <tr>\n",
       "      <th>residual sugar</th>\n",
       "      <td>1599.0</td>\n",
       "      <td>2.538806</td>\n",
       "      <td>1.409928</td>\n",
       "      <td>0.90000</td>\n",
       "      <td>1.9000</td>\n",
       "      <td>2.20000</td>\n",
       "      <td>2.600000</td>\n",
       "      <td>15.50000</td>\n",
       "    </tr>\n",
       "    <tr>\n",
       "      <th>chlorides</th>\n",
       "      <td>1599.0</td>\n",
       "      <td>0.087467</td>\n",
       "      <td>0.047065</td>\n",
       "      <td>0.01200</td>\n",
       "      <td>0.0700</td>\n",
       "      <td>0.07900</td>\n",
       "      <td>0.090000</td>\n",
       "      <td>0.61100</td>\n",
       "    </tr>\n",
       "    <tr>\n",
       "      <th>free sulfur dioxide</th>\n",
       "      <td>1599.0</td>\n",
       "      <td>15.874922</td>\n",
       "      <td>10.460157</td>\n",
       "      <td>1.00000</td>\n",
       "      <td>7.0000</td>\n",
       "      <td>14.00000</td>\n",
       "      <td>21.000000</td>\n",
       "      <td>72.00000</td>\n",
       "    </tr>\n",
       "    <tr>\n",
       "      <th>total sulfur dioxide</th>\n",
       "      <td>1599.0</td>\n",
       "      <td>46.467792</td>\n",
       "      <td>32.895324</td>\n",
       "      <td>6.00000</td>\n",
       "      <td>22.0000</td>\n",
       "      <td>38.00000</td>\n",
       "      <td>62.000000</td>\n",
       "      <td>289.00000</td>\n",
       "    </tr>\n",
       "    <tr>\n",
       "      <th>density</th>\n",
       "      <td>1599.0</td>\n",
       "      <td>0.996747</td>\n",
       "      <td>0.001887</td>\n",
       "      <td>0.99007</td>\n",
       "      <td>0.9956</td>\n",
       "      <td>0.99675</td>\n",
       "      <td>0.997835</td>\n",
       "      <td>1.00369</td>\n",
       "    </tr>\n",
       "    <tr>\n",
       "      <th>pH</th>\n",
       "      <td>1599.0</td>\n",
       "      <td>3.311113</td>\n",
       "      <td>0.154386</td>\n",
       "      <td>2.74000</td>\n",
       "      <td>3.2100</td>\n",
       "      <td>3.31000</td>\n",
       "      <td>3.400000</td>\n",
       "      <td>4.01000</td>\n",
       "    </tr>\n",
       "    <tr>\n",
       "      <th>sulphates</th>\n",
       "      <td>1599.0</td>\n",
       "      <td>0.658149</td>\n",
       "      <td>0.169507</td>\n",
       "      <td>0.33000</td>\n",
       "      <td>0.5500</td>\n",
       "      <td>0.62000</td>\n",
       "      <td>0.730000</td>\n",
       "      <td>2.00000</td>\n",
       "    </tr>\n",
       "    <tr>\n",
       "      <th>alcohol</th>\n",
       "      <td>1599.0</td>\n",
       "      <td>10.422983</td>\n",
       "      <td>1.065668</td>\n",
       "      <td>8.40000</td>\n",
       "      <td>9.5000</td>\n",
       "      <td>10.20000</td>\n",
       "      <td>11.100000</td>\n",
       "      <td>14.90000</td>\n",
       "    </tr>\n",
       "    <tr>\n",
       "      <th>quality</th>\n",
       "      <td>1599.0</td>\n",
       "      <td>5.636023</td>\n",
       "      <td>0.807569</td>\n",
       "      <td>3.00000</td>\n",
       "      <td>5.0000</td>\n",
       "      <td>6.00000</td>\n",
       "      <td>6.000000</td>\n",
       "      <td>8.00000</td>\n",
       "    </tr>\n",
       "  </tbody>\n",
       "</table>\n",
       "</div>"
      ],
      "text/plain": [
       "                       count       mean        std      min      25%  \\\n",
       "fixed acidity         1599.0   8.319637   1.741096  4.60000   7.1000   \n",
       "volatile acidity      1599.0   0.527821   0.179060  0.12000   0.3900   \n",
       "citric acid           1599.0   0.270976   0.194801  0.00000   0.0900   \n",
       "residual sugar        1599.0   2.538806   1.409928  0.90000   1.9000   \n",
       "chlorides             1599.0   0.087467   0.047065  0.01200   0.0700   \n",
       "free sulfur dioxide   1599.0  15.874922  10.460157  1.00000   7.0000   \n",
       "total sulfur dioxide  1599.0  46.467792  32.895324  6.00000  22.0000   \n",
       "density               1599.0   0.996747   0.001887  0.99007   0.9956   \n",
       "pH                    1599.0   3.311113   0.154386  2.74000   3.2100   \n",
       "sulphates             1599.0   0.658149   0.169507  0.33000   0.5500   \n",
       "alcohol               1599.0  10.422983   1.065668  8.40000   9.5000   \n",
       "quality               1599.0   5.636023   0.807569  3.00000   5.0000   \n",
       "\n",
       "                           50%        75%        max  \n",
       "fixed acidity          7.90000   9.200000   15.90000  \n",
       "volatile acidity       0.52000   0.640000    1.58000  \n",
       "citric acid            0.26000   0.420000    1.00000  \n",
       "residual sugar         2.20000   2.600000   15.50000  \n",
       "chlorides              0.07900   0.090000    0.61100  \n",
       "free sulfur dioxide   14.00000  21.000000   72.00000  \n",
       "total sulfur dioxide  38.00000  62.000000  289.00000  \n",
       "density                0.99675   0.997835    1.00369  \n",
       "pH                     3.31000   3.400000    4.01000  \n",
       "sulphates              0.62000   0.730000    2.00000  \n",
       "alcohol               10.20000  11.100000   14.90000  \n",
       "quality                6.00000   6.000000    8.00000  "
      ]
     },
     "execution_count": 4,
     "metadata": {},
     "output_type": "execute_result"
    }
   ],
   "source": [
    "df.describe().T"
   ]
  },
  {
   "cell_type": "code",
   "execution_count": 5,
   "id": "7575053f",
   "metadata": {},
   "outputs": [
    {
     "data": {
      "text/plain": [
       "fixed acidity           0\n",
       "volatile acidity        0\n",
       "citric acid             0\n",
       "residual sugar          0\n",
       "chlorides               0\n",
       "free sulfur dioxide     0\n",
       "total sulfur dioxide    0\n",
       "density                 0\n",
       "pH                      0\n",
       "sulphates               0\n",
       "alcohol                 0\n",
       "quality                 0\n",
       "dtype: int64"
      ]
     },
     "execution_count": 5,
     "metadata": {},
     "output_type": "execute_result"
    }
   ],
   "source": [
    "df.isna().sum()"
   ]
  },
  {
   "cell_type": "code",
   "execution_count": 6,
   "id": "9f702086",
   "metadata": {},
   "outputs": [
    {
     "data": {
      "text/plain": [
       "6"
      ]
     },
     "execution_count": 6,
     "metadata": {},
     "output_type": "execute_result"
    }
   ],
   "source": [
    "df['quality'].nunique()"
   ]
  },
  {
   "cell_type": "code",
   "execution_count": 7,
   "id": "823f68ff",
   "metadata": {},
   "outputs": [
    {
     "data": {
      "image/png": "[encoded data removed]",
      "text/plain": [
       "<Figure size 432x288 with 1 Axes>"
      ]
     },
     "metadata": {
      "needs_background": "light"
     },
     "output_type": "display_data"
    },
    {
     "name": "stdout",
     "output_type": "stream",
     "text": [
      "5    681\n",
      "6    638\n",
      "7    199\n",
      "4     53\n",
      "8     18\n",
      "3     10\n",
      "Name: quality, dtype: int64\n"
     ]
    }
   ],
   "source": [
    "df['quality'].value_counts().sort_index().plot(kind = 'bar')\n",
    "plt.grid(True, linestyle='--', alpha=0.7)\n",
    "plt.show()\n",
    "\n",
    "print(df['quality'].value_counts())"
   ]
  },
  {
   "cell_type": "markdown",
   "id": "79ce0443",
   "metadata": {},
   "source": [
    "### Data Preprocessing"
   ]
  },
  {
   "cell_type": "markdown",
   "id": "4f290183",
   "metadata": {},
   "source": [
    "Set an arbitrary cutoff for the dependent variable (quality) at 6.5 or higher getting classified as `good or 1`, and the remainder as `bad or 0`."
   ]
  },
  {
   "cell_type": "code",
   "execution_count": 8,
   "id": "4cf28e1f",
   "metadata": {},
   "outputs": [
    {
     "data": {
      "text/html": [
       "<div>\n",
       "<style scoped>\n",
       "    .dataframe tbody tr th:only-of-type {\n",
       "        vertical-align: middle;\n",
       "    }\n",
       "\n",
       "    .dataframe tbody tr th {\n",
       "        vertical-align: top;\n",
       "    }\n",
       "\n",
       "    .dataframe thead th {\n",
       "        text-align: right;\n",
       "    }\n",
       "</style>\n",
       "<table border=\"1\" class=\"dataframe\">\n",
       "  <thead>\n",
       "    <tr style=\"text-align: right;\">\n",
       "      <th></th>\n",
       "      <th>fixed acidity</th>\n",
       "      <th>volatile acidity</th>\n",
       "      <th>citric acid</th>\n",
       "      <th>residual sugar</th>\n",
       "      <th>chlorides</th>\n",
       "      <th>free sulfur dioxide</th>\n",
       "      <th>total sulfur dioxide</th>\n",
       "      <th>density</th>\n",
       "      <th>pH</th>\n",
       "      <th>sulphates</th>\n",
       "      <th>alcohol</th>\n",
       "      <th>quality</th>\n",
       "    </tr>\n",
       "  </thead>\n",
       "  <tbody>\n",
       "    <tr>\n",
       "      <th>0</th>\n",
       "      <td>7.4</td>\n",
       "      <td>0.70</td>\n",
       "      <td>0.00</td>\n",
       "      <td>1.9</td>\n",
       "      <td>0.076</td>\n",
       "      <td>11.0</td>\n",
       "      <td>34.0</td>\n",
       "      <td>0.9978</td>\n",
       "      <td>3.51</td>\n",
       "      <td>0.56</td>\n",
       "      <td>9.4</td>\n",
       "      <td>0</td>\n",
       "    </tr>\n",
       "    <tr>\n",
       "      <th>1</th>\n",
       "      <td>7.8</td>\n",
       "      <td>0.88</td>\n",
       "      <td>0.00</td>\n",
       "      <td>2.6</td>\n",
       "      <td>0.098</td>\n",
       "      <td>25.0</td>\n",
       "      <td>67.0</td>\n",
       "      <td>0.9968</td>\n",
       "      <td>3.20</td>\n",
       "      <td>0.68</td>\n",
       "      <td>9.8</td>\n",
       "      <td>0</td>\n",
       "    </tr>\n",
       "    <tr>\n",
       "      <th>2</th>\n",
       "      <td>7.8</td>\n",
       "      <td>0.76</td>\n",
       "      <td>0.04</td>\n",
       "      <td>2.3</td>\n",
       "      <td>0.092</td>\n",
       "      <td>15.0</td>\n",
       "      <td>54.0</td>\n",
       "      <td>0.9970</td>\n",
       "      <td>3.26</td>\n",
       "      <td>0.65</td>\n",
       "      <td>9.8</td>\n",
       "      <td>0</td>\n",
       "    </tr>\n",
       "    <tr>\n",
       "      <th>3</th>\n",
       "      <td>11.2</td>\n",
       "      <td>0.28</td>\n",
       "      <td>0.56</td>\n",
       "      <td>1.9</td>\n",
       "      <td>0.075</td>\n",
       "      <td>17.0</td>\n",
       "      <td>60.0</td>\n",
       "      <td>0.9980</td>\n",
       "      <td>3.16</td>\n",
       "      <td>0.58</td>\n",
       "      <td>9.8</td>\n",
       "      <td>0</td>\n",
       "    </tr>\n",
       "    <tr>\n",
       "      <th>4</th>\n",
       "      <td>7.4</td>\n",
       "      <td>0.70</td>\n",
       "      <td>0.00</td>\n",
       "      <td>1.9</td>\n",
       "      <td>0.076</td>\n",
       "      <td>11.0</td>\n",
       "      <td>34.0</td>\n",
       "      <td>0.9978</td>\n",
       "      <td>3.51</td>\n",
       "      <td>0.56</td>\n",
       "      <td>9.4</td>\n",
       "      <td>0</td>\n",
       "    </tr>\n",
       "    <tr>\n",
       "      <th>5</th>\n",
       "      <td>7.4</td>\n",
       "      <td>0.66</td>\n",
       "      <td>0.00</td>\n",
       "      <td>1.8</td>\n",
       "      <td>0.075</td>\n",
       "      <td>13.0</td>\n",
       "      <td>40.0</td>\n",
       "      <td>0.9978</td>\n",
       "      <td>3.51</td>\n",
       "      <td>0.56</td>\n",
       "      <td>9.4</td>\n",
       "      <td>0</td>\n",
       "    </tr>\n",
       "    <tr>\n",
       "      <th>6</th>\n",
       "      <td>7.9</td>\n",
       "      <td>0.60</td>\n",
       "      <td>0.06</td>\n",
       "      <td>1.6</td>\n",
       "      <td>0.069</td>\n",
       "      <td>15.0</td>\n",
       "      <td>59.0</td>\n",
       "      <td>0.9964</td>\n",
       "      <td>3.30</td>\n",
       "      <td>0.46</td>\n",
       "      <td>9.4</td>\n",
       "      <td>0</td>\n",
       "    </tr>\n",
       "    <tr>\n",
       "      <th>7</th>\n",
       "      <td>7.3</td>\n",
       "      <td>0.65</td>\n",
       "      <td>0.00</td>\n",
       "      <td>1.2</td>\n",
       "      <td>0.065</td>\n",
       "      <td>15.0</td>\n",
       "      <td>21.0</td>\n",
       "      <td>0.9946</td>\n",
       "      <td>3.39</td>\n",
       "      <td>0.47</td>\n",
       "      <td>10.0</td>\n",
       "      <td>1</td>\n",
       "    </tr>\n",
       "    <tr>\n",
       "      <th>8</th>\n",
       "      <td>7.8</td>\n",
       "      <td>0.58</td>\n",
       "      <td>0.02</td>\n",
       "      <td>2.0</td>\n",
       "      <td>0.073</td>\n",
       "      <td>9.0</td>\n",
       "      <td>18.0</td>\n",
       "      <td>0.9968</td>\n",
       "      <td>3.36</td>\n",
       "      <td>0.57</td>\n",
       "      <td>9.5</td>\n",
       "      <td>1</td>\n",
       "    </tr>\n",
       "  </tbody>\n",
       "</table>\n",
       "</div>"
      ],
      "text/plain": [
       "   fixed acidity  volatile acidity  citric acid  residual sugar  chlorides  \\\n",
       "0            7.4              0.70         0.00             1.9      0.076   \n",
       "1            7.8              0.88         0.00             2.6      0.098   \n",
       "2            7.8              0.76         0.04             2.3      0.092   \n",
       "3           11.2              0.28         0.56             1.9      0.075   \n",
       "4            7.4              0.70         0.00             1.9      0.076   \n",
       "5            7.4              0.66         0.00             1.8      0.075   \n",
       "6            7.9              0.60         0.06             1.6      0.069   \n",
       "7            7.3              0.65         0.00             1.2      0.065   \n",
       "8            7.8              0.58         0.02             2.0      0.073   \n",
       "\n",
       "   free sulfur dioxide  total sulfur dioxide  density    pH  sulphates  \\\n",
       "0                 11.0                  34.0   0.9978  3.51       0.56   \n",
       "1                 25.0                  67.0   0.9968  3.20       0.68   \n",
       "2                 15.0                  54.0   0.9970  3.26       0.65   \n",
       "3                 17.0                  60.0   0.9980  3.16       0.58   \n",
       "4                 11.0                  34.0   0.9978  3.51       0.56   \n",
       "5                 13.0                  40.0   0.9978  3.51       0.56   \n",
       "6                 15.0                  59.0   0.9964  3.30       0.46   \n",
       "7                 15.0                  21.0   0.9946  3.39       0.47   \n",
       "8                  9.0                  18.0   0.9968  3.36       0.57   \n",
       "\n",
       "   alcohol  quality  \n",
       "0      9.4        0  \n",
       "1      9.8        0  \n",
       "2      9.8        0  \n",
       "3      9.8        0  \n",
       "4      9.4        0  \n",
       "5      9.4        0  \n",
       "6      9.4        0  \n",
       "7     10.0        1  \n",
       "8      9.5        1  "
      ]
     },
     "execution_count": 8,
     "metadata": {},
     "output_type": "execute_result"
    }
   ],
   "source": [
    "eda_df = df\n",
    "eda_df['quality'] = eda_df['quality'].apply(lambda x: 1 if x >= 6.5 else 0)\n",
    "eda_df.head(9)"
   ]
  },
  {
   "cell_type": "markdown",
   "id": "b2f553b4",
   "metadata": {},
   "source": [
    "**Count Plot**"
   ]
  },
  {
   "cell_type": "code",
   "execution_count": 9,
   "id": "cd06d634",
   "metadata": {
    "scrolled": true
   },
   "outputs": [
    {
     "data": {
      "image/png": "[encoded data removed]",
      "text/plain": [
       "<Figure size 360x360 with 1 Axes>"
      ]
     },
     "metadata": {
      "needs_background": "light"
     },
     "output_type": "display_data"
    }
   ],
   "source": [
    "plt.figure(figsize = (5,5))\n",
    "ax = sns.countplot(x = 'quality', data = eda_df)\n",
    "for p in ax.patches:\n",
    "    height = p.get_height()\n",
    "    ax.text(p.get_x() + p.get_width() / 2., height + 3, height, ha='center')\n",
    "plt.xlabel('Bad Quality   -   Good Quality')\n",
    "plt.ylabel('Count')\n",
    "plt.title('Good vs Bad Quality Wines')\n",
    "plt.show()"
   ]
  },
  {
   "cell_type": "markdown",
   "id": "33613a92",
   "metadata": {},
   "source": [
    "Here, the imbalance is prominent as there is a difference of **1,165** between bad and good quality wines with bad wines being the majority."
   ]
  },
  {
   "cell_type": "markdown",
   "id": "df9196f5",
   "metadata": {},
   "source": [
    "**Correlation**"
   ]
  },
  {
   "cell_type": "markdown",
   "id": "c148658a",
   "metadata": {},
   "source": [
    "Correlation or dependence is any statistical relationship, whether causal or not, between two random variables or bivariate data."
   ]
  },
  {
   "cell_type": "code",
   "execution_count": 10,
   "id": "b85dc0b2",
   "metadata": {},
   "outputs": [
    {
     "data": {
      "text/plain": [
       "<AxesSubplot:>"
      ]
     },
     "execution_count": 10,
     "metadata": {},
     "output_type": "execute_result"
    },
    {
     "data": {
      "image/png": "[encoded data removed]",
      "text/plain": [
       "<Figure size 720x432 with 2 Axes>"
      ]
     },
     "metadata": {
      "needs_background": "light"
     },
     "output_type": "display_data"
    }
   ],
   "source": [
    "plt.figure(figsize = (10, 6))\n",
    "sns.heatmap(eda_df.corr(), annot = True, cmap = 'RdBu')"
   ]
  },
  {
   "cell_type": "markdown",
   "id": "b8a29058",
   "metadata": {},
   "source": [
    "`df.corr()` computes pairwise correlation of columns, excluding NA/null values."
   ]
  },
  {
   "cell_type": "code",
   "execution_count": 11,
   "id": "7e36fa0c",
   "metadata": {},
   "outputs": [
    {
     "data": {
      "image/png": "[encoded data removed]",
      "text/plain": [
       "<Figure size 720x432 with 1 Axes>"
      ]
     },
     "metadata": {
      "needs_background": "light"
     },
     "output_type": "display_data"
    }
   ],
   "source": [
    "plt.figure(figsize = (10, 6))\n",
    "corr = eda_df.corr()['quality'].sort_values(ascending=False)\n",
    "corr.drop('quality').plot(kind = 'bar')\n",
    "plt.show()"
   ]
  },
  {
   "cell_type": "markdown",
   "id": "789a1bd3",
   "metadata": {},
   "source": [
    "The plot shows the correlation of each features to the target variable `quality`. Arranged from the most correlated to least correlated."
   ]
  },
  {
   "cell_type": "markdown",
   "id": "22e35547-5ce9-4027-8e2e-c6a84c90c598",
   "metadata": {},
   "source": [
    "## **🧹 Prepare Dataset**\n",
    "- Identify the `predictor` and the `target` variables.\n",
    "- Split the dataset for `train` and test `sets`."
   ]
  },
  {
   "cell_type": "markdown",
   "id": "ccb9f0d7",
   "metadata": {},
   "source": [
    "### Identifying Variables"
   ]
  },
  {
   "cell_type": "markdown",
   "id": "abb11ec8",
   "metadata": {},
   "source": [
    "Independent variables will be `X`, and dependent variables will be `y`"
   ]
  },
  {
   "cell_type": "code",
   "execution_count": 12,
   "id": "e95e1843-c565-4d90-b577-cdc01a8ff54f",
   "metadata": {},
   "outputs": [],
   "source": [
    "X = eda_df.drop('quality', axis = 1)\n",
    "y = eda_df['quality']"
   ]
  },
  {
   "cell_type": "markdown",
   "id": "b30cf417",
   "metadata": {},
   "source": [
    "### Scaling"
   ]
  },
  {
   "cell_type": "markdown",
   "id": "8a985d30",
   "metadata": {},
   "source": [
    "Data scaling is the process of transforming the values of the features of a dataset till they are within a specific range, e.g. 0 to 1 or -1 to 1. This is to ensure that no single feature dominates the distance calculations in an algorithm, and can help to improve the performance of the algorithm.\n",
    "\n",
    "`StandardScaler` standardize features by removing the mean and scaling to unit variance."
   ]
  },
  {
   "cell_type": "code",
   "execution_count": 13,
   "id": "fbfb1f33",
   "metadata": {},
   "outputs": [],
   "source": [
    "sc = StandardScaler()\n",
    "X = sc.fit_transform(X)"
   ]
  },
  {
   "cell_type": "markdown",
   "id": "c2d40a45",
   "metadata": {},
   "source": [
    "### Splitting"
   ]
  },
  {
   "cell_type": "markdown",
   "id": "d943284e",
   "metadata": {},
   "source": [
    "`train_test_split` split arrays or matrices into random train and test subsets."
   ]
  },
  {
   "cell_type": "code",
   "execution_count": 14,
   "id": "71f3aaa8",
   "metadata": {},
   "outputs": [],
   "source": [
    "X_train, X_test, y_train, y_test = tts(X, y, test_size = 0.3, random_state = 42)"
   ]
  },
  {
   "cell_type": "markdown",
   "id": "e0c54f32",
   "metadata": {},
   "source": [
    "#### Feature Importance Plotting"
   ]
  },
  {
   "cell_type": "markdown",
   "id": "7e3540bd",
   "metadata": {},
   "source": [
    "Feature importance scores are used to determine the relative importance of each feature in a dataset when building a predictive model."
   ]
  },
  {
   "cell_type": "code",
   "execution_count": 15,
   "id": "f2d08b91",
   "metadata": {},
   "outputs": [],
   "source": [
    "feature_names = np.array(df.drop('quality', axis = 1).columns)"
   ]
  },
  {
   "cell_type": "code",
   "execution_count": 16,
   "id": "30418137",
   "metadata": {},
   "outputs": [],
   "source": [
    "def plot_feature_importance(name, coefficients):\n",
    "    feature_importance_base = pd.DataFrame({'Feature': feature_names, 'Coefficient': coefficients})\n",
    "    feature_importance_base['Absolute_Coefficient'] = feature_importance_base['Coefficient'].abs()\n",
    "    feature_importance_base = feature_importance_base.sort_values(by = 'Absolute_Coefficient')\n",
    "    \n",
    "    plt.figure(figsize = (10, 6))\n",
    "    plt.barh(feature_importance_base['Feature'], feature_importance_base['Absolute_Coefficient'], \n",
    "            color = plt.cm.get_cmap('tab10_r')(range(len(feature_importance_base))))\n",
    "    plt.xlabel('Importance')\n",
    "    plt.ylabel('Feature')\n",
    "    plt.title(f'{name} Feature Importance')\n",
    "    plt.show()\n",
    "    return feature_importance_base"
   ]
  },
  {
   "cell_type": "markdown",
   "id": "4c961cb0-d438-4f55-a296-1fc14ed86eed",
   "metadata": {},
   "source": [
    "## **🤖 Train Model**\n"
   ]
  },
  {
   "cell_type": "markdown",
   "id": "a4e2c57f",
   "metadata": {},
   "source": [
    "#### Decision Tree Classifier"
   ]
  },
  {
   "cell_type": "code",
   "execution_count": 17,
   "id": "5a69b3de",
   "metadata": {},
   "outputs": [
    {
     "data": {
      "text/html": [
       "<style>#sk-container-id-1 {color: black;}#sk-container-id-1 pre{padding: 0;}#sk-container-id-1 div.sk-toggleable {background-color: white;}#sk-container-id-1 label.sk-toggleable__label {cursor: pointer;display: block;width: 100%;margin-bottom: 0;padding: 0.3em;box-sizing: border-box;text-align: center;}#sk-container-id-1 label.sk-toggleable__label-arrow:before {content: \"▸\";float: left;margin-right: 0.25em;color: #696969;}#sk-container-id-1 label.sk-toggleable__label-arrow:hover:before {color: black;}#sk-container-id-1 div.sk-estimator:hover label.sk-toggleable__label-arrow:before {color: black;}#sk-container-id-1 div.sk-toggleable__content {max-height: 0;max-width: 0;overflow: hidden;text-align: left;background-color: #f0f8ff;}#sk-container-id-1 div.sk-toggleable__content pre {margin: 0.2em;color: black;border-radius: 0.25em;background-color: #f0f8ff;}#sk-container-id-1 input.sk-toggleable__control:checked~div.sk-toggleable__content {max-height: 200px;max-width: 100%;overflow: auto;}#sk-container-id-1 input.sk-toggleable__control:checked~label.sk-toggleable__label-arrow:before {content: \"▾\";}#sk-container-id-1 div.sk-estimator input.sk-toggleable__control:checked~label.sk-toggleable__label {background-color: #d4ebff;}#sk-container-id-1 div.sk-label input.sk-toggleable__control:checked~label.sk-toggleable__label {background-color: #d4ebff;}#sk-container-id-1 input.sk-hidden--visually {border: 0;clip: rect(1px 1px 1px 1px);clip: rect(1px, 1px, 1px, 1px);height: 1px;margin: -1px;overflow: hidden;padding: 0;position: absolute;width: 1px;}#sk-container-id-1 div.sk-estimator {font-family: monospace;background-color: #f0f8ff;border: 1px dotted black;border-radius: 0.25em;box-sizing: border-box;margin-bottom: 0.5em;}#sk-container-id-1 div.sk-estimator:hover {background-color: #d4ebff;}#sk-container-id-1 div.sk-parallel-item::after {content: \"\";width: 100%;border-bottom: 1px solid gray;flex-grow: 1;}#sk-container-id-1 div.sk-label:hover label.sk-toggleable__label {background-color: #d4ebff;}#sk-container-id-1 div.sk-serial::before {content: \"\";position: absolute;border-left: 1px solid gray;box-sizing: border-box;top: 0;bottom: 0;left: 50%;z-index: 0;}#sk-container-id-1 div.sk-serial {display: flex;flex-direction: column;align-items: center;background-color: white;padding-right: 0.2em;padding-left: 0.2em;position: relative;}#sk-container-id-1 div.sk-item {position: relative;z-index: 1;}#sk-container-id-1 div.sk-parallel {display: flex;align-items: stretch;justify-content: center;background-color: white;position: relative;}#sk-container-id-1 div.sk-item::before, #sk-container-id-1 div.sk-parallel-item::before {content: \"\";position: absolute;border-left: 1px solid gray;box-sizing: border-box;top: 0;bottom: 0;left: 50%;z-index: -1;}#sk-container-id-1 div.sk-parallel-item {display: flex;flex-direction: column;z-index: 1;position: relative;background-color: white;}#sk-container-id-1 div.sk-parallel-item:first-child::after {align-self: flex-end;width: 50%;}#sk-container-id-1 div.sk-parallel-item:last-child::after {align-self: flex-start;width: 50%;}#sk-container-id-1 div.sk-parallel-item:only-child::after {width: 0;}#sk-container-id-1 div.sk-dashed-wrapped {border: 1px dashed gray;margin: 0 0.4em 0.5em 0.4em;box-sizing: border-box;padding-bottom: 0.4em;background-color: white;}#sk-container-id-1 div.sk-label label {font-family: monospace;font-weight: bold;display: inline-block;line-height: 1.2em;}#sk-container-id-1 div.sk-label-container {text-align: center;}#sk-container-id-1 div.sk-container {/* jupyter's `normalize.less` sets `[hidden] { display: none; }` but bootstrap.min.css set `[hidden] { display: none !important; }` so we also need the `!important` here to be able to override the default hidden behavior on the sphinx rendered scikit-learn.org. See: https://github.com/scikit-learn/scikit-learn/issues/21755 */display: inline-block !important;position: relative;}#sk-container-id-1 div.sk-text-repr-fallback {display: none;}</style><div id=\"sk-container-id-1\" class=\"sk-top-container\"><div class=\"sk-text-repr-fallback\"><pre>DecisionTreeClassifier()</pre><b>In a Jupyter environment, please rerun this cell to show the HTML representation or trust the notebook. <br />On GitHub, the HTML representation is unable to render, please try loading this page with nbviewer.org.</b></div><div class=\"sk-container\" hidden><div class=\"sk-item\"><div class=\"sk-estimator sk-toggleable\"><input class=\"sk-toggleable__control sk-hidden--visually\" id=\"sk-estimator-id-1\" type=\"checkbox\" checked><label for=\"sk-estimator-id-1\" class=\"sk-toggleable__label sk-toggleable__label-arrow\">DecisionTreeClassifier</label><div class=\"sk-toggleable__content\"><pre>DecisionTreeClassifier()</pre></div></div></div></div></div>"
      ],
      "text/plain": [
       "DecisionTreeClassifier()"
      ]
     },
     "execution_count": 17,
     "metadata": {},
     "output_type": "execute_result"
    }
   ],
   "source": [
    "dt = DecisionTreeClassifier()\n",
    "dt"
   ]
  },
  {
   "cell_type": "code",
   "execution_count": 18,
   "id": "1f1f4de9",
   "metadata": {},
   "outputs": [
    {
     "data": {
      "text/plain": [
       "1.0"
      ]
     },
     "execution_count": 18,
     "metadata": {},
     "output_type": "execute_result"
    }
   ],
   "source": [
    "dt.fit(X_train, y_train)\n",
    "dt.score(X_train, y_train)"
   ]
  },
  {
   "cell_type": "code",
   "execution_count": 19,
   "id": "ca66124c",
   "metadata": {},
   "outputs": [],
   "source": [
    "dt_pred = dt.predict(X_test)"
   ]
  },
  {
   "cell_type": "code",
   "execution_count": 20,
   "id": "e1d5c157",
   "metadata": {},
   "outputs": [
    {
     "data": {
      "image/png": "[encoded data removed]",
      "text/plain": [
       "<Figure size 720x432 with 1 Axes>"
      ]
     },
     "metadata": {
      "needs_background": "light"
     },
     "output_type": "display_data"
    }
   ],
   "source": [
    "feature_importance_dt = plot_feature_importance('Decision Tree - ', dt.feature_importances_)"
   ]
  },
  {
   "cell_type": "markdown",
   "id": "b5d54b1e",
   "metadata": {},
   "source": [
    "#### K Nearest Neighbor Classifier"
   ]
  },
  {
   "cell_type": "code",
   "execution_count": 21,
   "id": "1048e9d1-c93a-4aff-b779-244999710e10",
   "metadata": {},
   "outputs": [
    {
     "data": {
      "text/html": [
       "<style>#sk-container-id-2 {color: black;}#sk-container-id-2 pre{padding: 0;}#sk-container-id-2 div.sk-toggleable {background-color: white;}#sk-container-id-2 label.sk-toggleable__label {cursor: pointer;display: block;width: 100%;margin-bottom: 0;padding: 0.3em;box-sizing: border-box;text-align: center;}#sk-container-id-2 label.sk-toggleable__label-arrow:before {content: \"▸\";float: left;margin-right: 0.25em;color: #696969;}#sk-container-id-2 label.sk-toggleable__label-arrow:hover:before {color: black;}#sk-container-id-2 div.sk-estimator:hover label.sk-toggleable__label-arrow:before {color: black;}#sk-container-id-2 div.sk-toggleable__content {max-height: 0;max-width: 0;overflow: hidden;text-align: left;background-color: #f0f8ff;}#sk-container-id-2 div.sk-toggleable__content pre {margin: 0.2em;color: black;border-radius: 0.25em;background-color: #f0f8ff;}#sk-container-id-2 input.sk-toggleable__control:checked~div.sk-toggleable__content {max-height: 200px;max-width: 100%;overflow: auto;}#sk-container-id-2 input.sk-toggleable__control:checked~label.sk-toggleable__label-arrow:before {content: \"▾\";}#sk-container-id-2 div.sk-estimator input.sk-toggleable__control:checked~label.sk-toggleable__label {background-color: #d4ebff;}#sk-container-id-2 div.sk-label input.sk-toggleable__control:checked~label.sk-toggleable__label {background-color: #d4ebff;}#sk-container-id-2 input.sk-hidden--visually {border: 0;clip: rect(1px 1px 1px 1px);clip: rect(1px, 1px, 1px, 1px);height: 1px;margin: -1px;overflow: hidden;padding: 0;position: absolute;width: 1px;}#sk-container-id-2 div.sk-estimator {font-family: monospace;background-color: #f0f8ff;border: 1px dotted black;border-radius: 0.25em;box-sizing: border-box;margin-bottom: 0.5em;}#sk-container-id-2 div.sk-estimator:hover {background-color: #d4ebff;}#sk-container-id-2 div.sk-parallel-item::after {content: \"\";width: 100%;border-bottom: 1px solid gray;flex-grow: 1;}#sk-container-id-2 div.sk-label:hover label.sk-toggleable__label {background-color: #d4ebff;}#sk-container-id-2 div.sk-serial::before {content: \"\";position: absolute;border-left: 1px solid gray;box-sizing: border-box;top: 0;bottom: 0;left: 50%;z-index: 0;}#sk-container-id-2 div.sk-serial {display: flex;flex-direction: column;align-items: center;background-color: white;padding-right: 0.2em;padding-left: 0.2em;position: relative;}#sk-container-id-2 div.sk-item {position: relative;z-index: 1;}#sk-container-id-2 div.sk-parallel {display: flex;align-items: stretch;justify-content: center;background-color: white;position: relative;}#sk-container-id-2 div.sk-item::before, #sk-container-id-2 div.sk-parallel-item::before {content: \"\";position: absolute;border-left: 1px solid gray;box-sizing: border-box;top: 0;bottom: 0;left: 50%;z-index: -1;}#sk-container-id-2 div.sk-parallel-item {display: flex;flex-direction: column;z-index: 1;position: relative;background-color: white;}#sk-container-id-2 div.sk-parallel-item:first-child::after {align-self: flex-end;width: 50%;}#sk-container-id-2 div.sk-parallel-item:last-child::after {align-self: flex-start;width: 50%;}#sk-container-id-2 div.sk-parallel-item:only-child::after {width: 0;}#sk-container-id-2 div.sk-dashed-wrapped {border: 1px dashed gray;margin: 0 0.4em 0.5em 0.4em;box-sizing: border-box;padding-bottom: 0.4em;background-color: white;}#sk-container-id-2 div.sk-label label {font-family: monospace;font-weight: bold;display: inline-block;line-height: 1.2em;}#sk-container-id-2 div.sk-label-container {text-align: center;}#sk-container-id-2 div.sk-container {/* jupyter's `normalize.less` sets `[hidden] { display: none; }` but bootstrap.min.css set `[hidden] { display: none !important; }` so we also need the `!important` here to be able to override the default hidden behavior on the sphinx rendered scikit-learn.org. See: https://github.com/scikit-learn/scikit-learn/issues/21755 */display: inline-block !important;position: relative;}#sk-container-id-2 div.sk-text-repr-fallback {display: none;}</style><div id=\"sk-container-id-2\" class=\"sk-top-container\"><div class=\"sk-text-repr-fallback\"><pre>KNeighborsClassifier(n_neighbors=1)</pre><b>In a Jupyter environment, please rerun this cell to show the HTML representation or trust the notebook. <br />On GitHub, the HTML representation is unable to render, please try loading this page with nbviewer.org.</b></div><div class=\"sk-container\" hidden><div class=\"sk-item\"><div class=\"sk-estimator sk-toggleable\"><input class=\"sk-toggleable__control sk-hidden--visually\" id=\"sk-estimator-id-2\" type=\"checkbox\" checked><label for=\"sk-estimator-id-2\" class=\"sk-toggleable__label sk-toggleable__label-arrow\">KNeighborsClassifier</label><div class=\"sk-toggleable__content\"><pre>KNeighborsClassifier(n_neighbors=1)</pre></div></div></div></div></div>"
      ],
      "text/plain": [
       "KNeighborsClassifier(n_neighbors=1)"
      ]
     },
     "execution_count": 21,
     "metadata": {},
     "output_type": "execute_result"
    }
   ],
   "source": [
    "knn = KNeighborsClassifier(n_neighbors = 1)\n",
    "knn"
   ]
  },
  {
   "cell_type": "code",
   "execution_count": 22,
   "id": "38ef95cd",
   "metadata": {},
   "outputs": [
    {
     "data": {
      "text/plain": [
       "1.0"
      ]
     },
     "execution_count": 22,
     "metadata": {},
     "output_type": "execute_result"
    }
   ],
   "source": [
    "knn.fit(X_train, y_train)\n",
    "knn.score(X_train, y_train)"
   ]
  },
  {
   "cell_type": "code",
   "execution_count": 23,
   "id": "7b22a4cf",
   "metadata": {},
   "outputs": [],
   "source": [
    "knn_pred = knn.predict(X_test)"
   ]
  },
  {
   "cell_type": "markdown",
   "id": "ed7e97f7",
   "metadata": {},
   "source": [
    "#### Logistic Regression"
   ]
  },
  {
   "cell_type": "code",
   "execution_count": 24,
   "id": "e1775696",
   "metadata": {},
   "outputs": [
    {
     "data": {
      "text/html": [
       "<style>#sk-container-id-3 {color: black;}#sk-container-id-3 pre{padding: 0;}#sk-container-id-3 div.sk-toggleable {background-color: white;}#sk-container-id-3 label.sk-toggleable__label {cursor: pointer;display: block;width: 100%;margin-bottom: 0;padding: 0.3em;box-sizing: border-box;text-align: center;}#sk-container-id-3 label.sk-toggleable__label-arrow:before {content: \"▸\";float: left;margin-right: 0.25em;color: #696969;}#sk-container-id-3 label.sk-toggleable__label-arrow:hover:before {color: black;}#sk-container-id-3 div.sk-estimator:hover label.sk-toggleable__label-arrow:before {color: black;}#sk-container-id-3 div.sk-toggleable__content {max-height: 0;max-width: 0;overflow: hidden;text-align: left;background-color: #f0f8ff;}#sk-container-id-3 div.sk-toggleable__content pre {margin: 0.2em;color: black;border-radius: 0.25em;background-color: #f0f8ff;}#sk-container-id-3 input.sk-toggleable__control:checked~div.sk-toggleable__content {max-height: 200px;max-width: 100%;overflow: auto;}#sk-container-id-3 input.sk-toggleable__control:checked~label.sk-toggleable__label-arrow:before {content: \"▾\";}#sk-container-id-3 div.sk-estimator input.sk-toggleable__control:checked~label.sk-toggleable__label {background-color: #d4ebff;}#sk-container-id-3 div.sk-label input.sk-toggleable__control:checked~label.sk-toggleable__label {background-color: #d4ebff;}#sk-container-id-3 input.sk-hidden--visually {border: 0;clip: rect(1px 1px 1px 1px);clip: rect(1px, 1px, 1px, 1px);height: 1px;margin: -1px;overflow: hidden;padding: 0;position: absolute;width: 1px;}#sk-container-id-3 div.sk-estimator {font-family: monospace;background-color: #f0f8ff;border: 1px dotted black;border-radius: 0.25em;box-sizing: border-box;margin-bottom: 0.5em;}#sk-container-id-3 div.sk-estimator:hover {background-color: #d4ebff;}#sk-container-id-3 div.sk-parallel-item::after {content: \"\";width: 100%;border-bottom: 1px solid gray;flex-grow: 1;}#sk-container-id-3 div.sk-label:hover label.sk-toggleable__label {background-color: #d4ebff;}#sk-container-id-3 div.sk-serial::before {content: \"\";position: absolute;border-left: 1px solid gray;box-sizing: border-box;top: 0;bottom: 0;left: 50%;z-index: 0;}#sk-container-id-3 div.sk-serial {display: flex;flex-direction: column;align-items: center;background-color: white;padding-right: 0.2em;padding-left: 0.2em;position: relative;}#sk-container-id-3 div.sk-item {position: relative;z-index: 1;}#sk-container-id-3 div.sk-parallel {display: flex;align-items: stretch;justify-content: center;background-color: white;position: relative;}#sk-container-id-3 div.sk-item::before, #sk-container-id-3 div.sk-parallel-item::before {content: \"\";position: absolute;border-left: 1px solid gray;box-sizing: border-box;top: 0;bottom: 0;left: 50%;z-index: -1;}#sk-container-id-3 div.sk-parallel-item {display: flex;flex-direction: column;z-index: 1;position: relative;background-color: white;}#sk-container-id-3 div.sk-parallel-item:first-child::after {align-self: flex-end;width: 50%;}#sk-container-id-3 div.sk-parallel-item:last-child::after {align-self: flex-start;width: 50%;}#sk-container-id-3 div.sk-parallel-item:only-child::after {width: 0;}#sk-container-id-3 div.sk-dashed-wrapped {border: 1px dashed gray;margin: 0 0.4em 0.5em 0.4em;box-sizing: border-box;padding-bottom: 0.4em;background-color: white;}#sk-container-id-3 div.sk-label label {font-family: monospace;font-weight: bold;display: inline-block;line-height: 1.2em;}#sk-container-id-3 div.sk-label-container {text-align: center;}#sk-container-id-3 div.sk-container {/* jupyter's `normalize.less` sets `[hidden] { display: none; }` but bootstrap.min.css set `[hidden] { display: none !important; }` so we also need the `!important` here to be able to override the default hidden behavior on the sphinx rendered scikit-learn.org. See: https://github.com/scikit-learn/scikit-learn/issues/21755 */display: inline-block !important;position: relative;}#sk-container-id-3 div.sk-text-repr-fallback {display: none;}</style><div id=\"sk-container-id-3\" class=\"sk-top-container\"><div class=\"sk-text-repr-fallback\"><pre>LogisticRegression(class_weight={0: 1, 1: 10})</pre><b>In a Jupyter environment, please rerun this cell to show the HTML representation or trust the notebook. <br />On GitHub, the HTML representation is unable to render, please try loading this page with nbviewer.org.</b></div><div class=\"sk-container\" hidden><div class=\"sk-item\"><div class=\"sk-estimator sk-toggleable\"><input class=\"sk-toggleable__control sk-hidden--visually\" id=\"sk-estimator-id-3\" type=\"checkbox\" checked><label for=\"sk-estimator-id-3\" class=\"sk-toggleable__label sk-toggleable__label-arrow\">LogisticRegression</label><div class=\"sk-toggleable__content\"><pre>LogisticRegression(class_weight={0: 1, 1: 10})</pre></div></div></div></div></div>"
      ],
      "text/plain": [
       "LogisticRegression(class_weight={0: 1, 1: 10})"
      ]
     },
     "execution_count": 24,
     "metadata": {},
     "output_type": "execute_result"
    }
   ],
   "source": [
    "cw = {0: 1, 1: 10}\n",
    "\n",
    "lr = LogisticRegression(class_weight = cw)\n",
    "lr"
   ]
  },
  {
   "cell_type": "code",
   "execution_count": 25,
   "id": "01582910",
   "metadata": {},
   "outputs": [
    {
     "data": {
      "text/plain": [
       "0.741733690795353"
      ]
     },
     "execution_count": 25,
     "metadata": {},
     "output_type": "execute_result"
    }
   ],
   "source": [
    "lr.fit(X_train, y_train)\n",
    "lr.score(X_train, y_train)"
   ]
  },
  {
   "cell_type": "code",
   "execution_count": 26,
   "id": "45f8795f",
   "metadata": {},
   "outputs": [],
   "source": [
    "lr_pred = lr.predict(X_test)"
   ]
  },
  {
   "cell_type": "code",
   "execution_count": 27,
   "id": "5be4ac3b",
   "metadata": {},
   "outputs": [
    {
     "data": {
      "image/png": "[encoded data removed]",
      "text/plain": [
       "<Figure size 720x432 with 1 Axes>"
      ]
     },
     "metadata": {
      "needs_background": "light"
     },
     "output_type": "display_data"
    }
   ],
   "source": [
    "coefficients_lr = lr.coef_[0]\n",
    "feature_importance_lr = plot_feature_importance('Logistic Regression - ', coefficients_lr)"
   ]
  },
  {
   "cell_type": "markdown",
   "id": "a823ef76",
   "metadata": {},
   "source": [
    "#### Ensemble Methods"
   ]
  },
  {
   "cell_type": "markdown",
   "id": "91526c82",
   "metadata": {},
   "source": [
    "**Random Forest Classifier**"
   ]
  },
  {
   "cell_type": "code",
   "execution_count": 28,
   "id": "01f66532",
   "metadata": {},
   "outputs": [
    {
     "data": {
      "text/html": [
       "<style>#sk-container-id-4 {color: black;}#sk-container-id-4 pre{padding: 0;}#sk-container-id-4 div.sk-toggleable {background-color: white;}#sk-container-id-4 label.sk-toggleable__label {cursor: pointer;display: block;width: 100%;margin-bottom: 0;padding: 0.3em;box-sizing: border-box;text-align: center;}#sk-container-id-4 label.sk-toggleable__label-arrow:before {content: \"▸\";float: left;margin-right: 0.25em;color: #696969;}#sk-container-id-4 label.sk-toggleable__label-arrow:hover:before {color: black;}#sk-container-id-4 div.sk-estimator:hover label.sk-toggleable__label-arrow:before {color: black;}#sk-container-id-4 div.sk-toggleable__content {max-height: 0;max-width: 0;overflow: hidden;text-align: left;background-color: #f0f8ff;}#sk-container-id-4 div.sk-toggleable__content pre {margin: 0.2em;color: black;border-radius: 0.25em;background-color: #f0f8ff;}#sk-container-id-4 input.sk-toggleable__control:checked~div.sk-toggleable__content {max-height: 200px;max-width: 100%;overflow: auto;}#sk-container-id-4 input.sk-toggleable__control:checked~label.sk-toggleable__label-arrow:before {content: \"▾\";}#sk-container-id-4 div.sk-estimator input.sk-toggleable__control:checked~label.sk-toggleable__label {background-color: #d4ebff;}#sk-container-id-4 div.sk-label input.sk-toggleable__control:checked~label.sk-toggleable__label {background-color: #d4ebff;}#sk-container-id-4 input.sk-hidden--visually {border: 0;clip: rect(1px 1px 1px 1px);clip: rect(1px, 1px, 1px, 1px);height: 1px;margin: -1px;overflow: hidden;padding: 0;position: absolute;width: 1px;}#sk-container-id-4 div.sk-estimator {font-family: monospace;background-color: #f0f8ff;border: 1px dotted black;border-radius: 0.25em;box-sizing: border-box;margin-bottom: 0.5em;}#sk-container-id-4 div.sk-estimator:hover {background-color: #d4ebff;}#sk-container-id-4 div.sk-parallel-item::after {content: \"\";width: 100%;border-bottom: 1px solid gray;flex-grow: 1;}#sk-container-id-4 div.sk-label:hover label.sk-toggleable__label {background-color: #d4ebff;}#sk-container-id-4 div.sk-serial::before {content: \"\";position: absolute;border-left: 1px solid gray;box-sizing: border-box;top: 0;bottom: 0;left: 50%;z-index: 0;}#sk-container-id-4 div.sk-serial {display: flex;flex-direction: column;align-items: center;background-color: white;padding-right: 0.2em;padding-left: 0.2em;position: relative;}#sk-container-id-4 div.sk-item {position: relative;z-index: 1;}#sk-container-id-4 div.sk-parallel {display: flex;align-items: stretch;justify-content: center;background-color: white;position: relative;}#sk-container-id-4 div.sk-item::before, #sk-container-id-4 div.sk-parallel-item::before {content: \"\";position: absolute;border-left: 1px solid gray;box-sizing: border-box;top: 0;bottom: 0;left: 50%;z-index: -1;}#sk-container-id-4 div.sk-parallel-item {display: flex;flex-direction: column;z-index: 1;position: relative;background-color: white;}#sk-container-id-4 div.sk-parallel-item:first-child::after {align-self: flex-end;width: 50%;}#sk-container-id-4 div.sk-parallel-item:last-child::after {align-self: flex-start;width: 50%;}#sk-container-id-4 div.sk-parallel-item:only-child::after {width: 0;}#sk-container-id-4 div.sk-dashed-wrapped {border: 1px dashed gray;margin: 0 0.4em 0.5em 0.4em;box-sizing: border-box;padding-bottom: 0.4em;background-color: white;}#sk-container-id-4 div.sk-label label {font-family: monospace;font-weight: bold;display: inline-block;line-height: 1.2em;}#sk-container-id-4 div.sk-label-container {text-align: center;}#sk-container-id-4 div.sk-container {/* jupyter's `normalize.less` sets `[hidden] { display: none; }` but bootstrap.min.css set `[hidden] { display: none !important; }` so we also need the `!important` here to be able to override the default hidden behavior on the sphinx rendered scikit-learn.org. See: https://github.com/scikit-learn/scikit-learn/issues/21755 */display: inline-block !important;position: relative;}#sk-container-id-4 div.sk-text-repr-fallback {display: none;}</style><div id=\"sk-container-id-4\" class=\"sk-top-container\"><div class=\"sk-text-repr-fallback\"><pre>RandomForestClassifier()</pre><b>In a Jupyter environment, please rerun this cell to show the HTML representation or trust the notebook. <br />On GitHub, the HTML representation is unable to render, please try loading this page with nbviewer.org.</b></div><div class=\"sk-container\" hidden><div class=\"sk-item\"><div class=\"sk-estimator sk-toggleable\"><input class=\"sk-toggleable__control sk-hidden--visually\" id=\"sk-estimator-id-4\" type=\"checkbox\" checked><label for=\"sk-estimator-id-4\" class=\"sk-toggleable__label sk-toggleable__label-arrow\">RandomForestClassifier</label><div class=\"sk-toggleable__content\"><pre>RandomForestClassifier()</pre></div></div></div></div></div>"
      ],
      "text/plain": [
       "RandomForestClassifier()"
      ]
     },
     "execution_count": 28,
     "metadata": {},
     "output_type": "execute_result"
    }
   ],
   "source": [
    "rf = ensemble.RandomForestClassifier()\n",
    "rf"
   ]
  },
  {
   "cell_type": "code",
   "execution_count": 29,
   "id": "3115761a",
   "metadata": {},
   "outputs": [
    {
     "data": {
      "text/plain": [
       "1.0"
      ]
     },
     "execution_count": 29,
     "metadata": {},
     "output_type": "execute_result"
    }
   ],
   "source": [
    "rf.fit(X_train, y_train)\n",
    "rf.score(X_train, y_train)"
   ]
  },
  {
   "cell_type": "code",
   "execution_count": 30,
   "id": "cde1ae28",
   "metadata": {},
   "outputs": [],
   "source": [
    "rf_pred = rf.predict(X_test)"
   ]
  },
  {
   "cell_type": "code",
   "execution_count": 31,
   "id": "3b6088a7",
   "metadata": {},
   "outputs": [
    {
     "data": {
      "image/png": "[encoded data removed]",
      "text/plain": [
       "<Figure size 720x432 with 1 Axes>"
      ]
     },
     "metadata": {
      "needs_background": "light"
     },
     "output_type": "display_data"
    }
   ],
   "source": [
    "feature_importance_rf = plot_feature_importance('Random Forest - ', rf.feature_importances_)"
   ]
  },
  {
   "cell_type": "markdown",
   "id": "75f6d129",
   "metadata": {},
   "source": [
    "**Extra Trees Classifier**"
   ]
  },
  {
   "cell_type": "code",
   "execution_count": 32,
   "id": "6c345101",
   "metadata": {},
   "outputs": [
    {
     "data": {
      "text/html": [
       "<style>#sk-container-id-5 {color: black;}#sk-container-id-5 pre{padding: 0;}#sk-container-id-5 div.sk-toggleable {background-color: white;}#sk-container-id-5 label.sk-toggleable__label {cursor: pointer;display: block;width: 100%;margin-bottom: 0;padding: 0.3em;box-sizing: border-box;text-align: center;}#sk-container-id-5 label.sk-toggleable__label-arrow:before {content: \"▸\";float: left;margin-right: 0.25em;color: #696969;}#sk-container-id-5 label.sk-toggleable__label-arrow:hover:before {color: black;}#sk-container-id-5 div.sk-estimator:hover label.sk-toggleable__label-arrow:before {color: black;}#sk-container-id-5 div.sk-toggleable__content {max-height: 0;max-width: 0;overflow: hidden;text-align: left;background-color: #f0f8ff;}#sk-container-id-5 div.sk-toggleable__content pre {margin: 0.2em;color: black;border-radius: 0.25em;background-color: #f0f8ff;}#sk-container-id-5 input.sk-toggleable__control:checked~div.sk-toggleable__content {max-height: 200px;max-width: 100%;overflow: auto;}#sk-container-id-5 input.sk-toggleable__control:checked~label.sk-toggleable__label-arrow:before {content: \"▾\";}#sk-container-id-5 div.sk-estimator input.sk-toggleable__control:checked~label.sk-toggleable__label {background-color: #d4ebff;}#sk-container-id-5 div.sk-label input.sk-toggleable__control:checked~label.sk-toggleable__label {background-color: #d4ebff;}#sk-container-id-5 input.sk-hidden--visually {border: 0;clip: rect(1px 1px 1px 1px);clip: rect(1px, 1px, 1px, 1px);height: 1px;margin: -1px;overflow: hidden;padding: 0;position: absolute;width: 1px;}#sk-container-id-5 div.sk-estimator {font-family: monospace;background-color: #f0f8ff;border: 1px dotted black;border-radius: 0.25em;box-sizing: border-box;margin-bottom: 0.5em;}#sk-container-id-5 div.sk-estimator:hover {background-color: #d4ebff;}#sk-container-id-5 div.sk-parallel-item::after {content: \"\";width: 100%;border-bottom: 1px solid gray;flex-grow: 1;}#sk-container-id-5 div.sk-label:hover label.sk-toggleable__label {background-color: #d4ebff;}#sk-container-id-5 div.sk-serial::before {content: \"\";position: absolute;border-left: 1px solid gray;box-sizing: border-box;top: 0;bottom: 0;left: 50%;z-index: 0;}#sk-container-id-5 div.sk-serial {display: flex;flex-direction: column;align-items: center;background-color: white;padding-right: 0.2em;padding-left: 0.2em;position: relative;}#sk-container-id-5 div.sk-item {position: relative;z-index: 1;}#sk-container-id-5 div.sk-parallel {display: flex;align-items: stretch;justify-content: center;background-color: white;position: relative;}#sk-container-id-5 div.sk-item::before, #sk-container-id-5 div.sk-parallel-item::before {content: \"\";position: absolute;border-left: 1px solid gray;box-sizing: border-box;top: 0;bottom: 0;left: 50%;z-index: -1;}#sk-container-id-5 div.sk-parallel-item {display: flex;flex-direction: column;z-index: 1;position: relative;background-color: white;}#sk-container-id-5 div.sk-parallel-item:first-child::after {align-self: flex-end;width: 50%;}#sk-container-id-5 div.sk-parallel-item:last-child::after {align-self: flex-start;width: 50%;}#sk-container-id-5 div.sk-parallel-item:only-child::after {width: 0;}#sk-container-id-5 div.sk-dashed-wrapped {border: 1px dashed gray;margin: 0 0.4em 0.5em 0.4em;box-sizing: border-box;padding-bottom: 0.4em;background-color: white;}#sk-container-id-5 div.sk-label label {font-family: monospace;font-weight: bold;display: inline-block;line-height: 1.2em;}#sk-container-id-5 div.sk-label-container {text-align: center;}#sk-container-id-5 div.sk-container {/* jupyter's `normalize.less` sets `[hidden] { display: none; }` but bootstrap.min.css set `[hidden] { display: none !important; }` so we also need the `!important` here to be able to override the default hidden behavior on the sphinx rendered scikit-learn.org. See: https://github.com/scikit-learn/scikit-learn/issues/21755 */display: inline-block !important;position: relative;}#sk-container-id-5 div.sk-text-repr-fallback {display: none;}</style><div id=\"sk-container-id-5\" class=\"sk-top-container\"><div class=\"sk-text-repr-fallback\"><pre>ExtraTreesClassifier()</pre><b>In a Jupyter environment, please rerun this cell to show the HTML representation or trust the notebook. <br />On GitHub, the HTML representation is unable to render, please try loading this page with nbviewer.org.</b></div><div class=\"sk-container\" hidden><div class=\"sk-item\"><div class=\"sk-estimator sk-toggleable\"><input class=\"sk-toggleable__control sk-hidden--visually\" id=\"sk-estimator-id-5\" type=\"checkbox\" checked><label for=\"sk-estimator-id-5\" class=\"sk-toggleable__label sk-toggleable__label-arrow\">ExtraTreesClassifier</label><div class=\"sk-toggleable__content\"><pre>ExtraTreesClassifier()</pre></div></div></div></div></div>"
      ],
      "text/plain": [
       "ExtraTreesClassifier()"
      ]
     },
     "execution_count": 32,
     "metadata": {},
     "output_type": "execute_result"
    }
   ],
   "source": [
    "et = ensemble.ExtraTreesClassifier()\n",
    "et"
   ]
  },
  {
   "cell_type": "code",
   "execution_count": 33,
   "id": "ab6cb81f",
   "metadata": {},
   "outputs": [
    {
     "data": {
      "text/plain": [
       "1.0"
      ]
     },
     "execution_count": 33,
     "metadata": {},
     "output_type": "execute_result"
    }
   ],
   "source": [
    "et.fit(X_train, y_train)\n",
    "et.score(X_train, y_train)"
   ]
  },
  {
   "cell_type": "code",
   "execution_count": 34,
   "id": "224a2b1a",
   "metadata": {},
   "outputs": [],
   "source": [
    "et_pred = et.predict(X_test)"
   ]
  },
  {
   "cell_type": "code",
   "execution_count": 35,
   "id": "cfc80d82",
   "metadata": {},
   "outputs": [
    {
     "data": {
      "image/png": "[encoded data removed]",
      "text/plain": [
       "<Figure size 720x432 with 1 Axes>"
      ]
     },
     "metadata": {
      "needs_background": "light"
     },
     "output_type": "display_data"
    }
   ],
   "source": [
    "feature_importance_et = plot_feature_importance('Extra Trees - ', et.feature_importances_)"
   ]
  },
  {
   "cell_type": "markdown",
   "id": "e31e7596",
   "metadata": {},
   "source": [
    "**Gradient Boosting Classifier**"
   ]
  },
  {
   "cell_type": "code",
   "execution_count": 36,
   "id": "4bd0fa2c",
   "metadata": {},
   "outputs": [
    {
     "data": {
      "text/html": [
       "<style>#sk-container-id-6 {color: black;}#sk-container-id-6 pre{padding: 0;}#sk-container-id-6 div.sk-toggleable {background-color: white;}#sk-container-id-6 label.sk-toggleable__label {cursor: pointer;display: block;width: 100%;margin-bottom: 0;padding: 0.3em;box-sizing: border-box;text-align: center;}#sk-container-id-6 label.sk-toggleable__label-arrow:before {content: \"▸\";float: left;margin-right: 0.25em;color: #696969;}#sk-container-id-6 label.sk-toggleable__label-arrow:hover:before {color: black;}#sk-container-id-6 div.sk-estimator:hover label.sk-toggleable__label-arrow:before {color: black;}#sk-container-id-6 div.sk-toggleable__content {max-height: 0;max-width: 0;overflow: hidden;text-align: left;background-color: #f0f8ff;}#sk-container-id-6 div.sk-toggleable__content pre {margin: 0.2em;color: black;border-radius: 0.25em;background-color: #f0f8ff;}#sk-container-id-6 input.sk-toggleable__control:checked~div.sk-toggleable__content {max-height: 200px;max-width: 100%;overflow: auto;}#sk-container-id-6 input.sk-toggleable__control:checked~label.sk-toggleable__label-arrow:before {content: \"▾\";}#sk-container-id-6 div.sk-estimator input.sk-toggleable__control:checked~label.sk-toggleable__label {background-color: #d4ebff;}#sk-container-id-6 div.sk-label input.sk-toggleable__control:checked~label.sk-toggleable__label {background-color: #d4ebff;}#sk-container-id-6 input.sk-hidden--visually {border: 0;clip: rect(1px 1px 1px 1px);clip: rect(1px, 1px, 1px, 1px);height: 1px;margin: -1px;overflow: hidden;padding: 0;position: absolute;width: 1px;}#sk-container-id-6 div.sk-estimator {font-family: monospace;background-color: #f0f8ff;border: 1px dotted black;border-radius: 0.25em;box-sizing: border-box;margin-bottom: 0.5em;}#sk-container-id-6 div.sk-estimator:hover {background-color: #d4ebff;}#sk-container-id-6 div.sk-parallel-item::after {content: \"\";width: 100%;border-bottom: 1px solid gray;flex-grow: 1;}#sk-container-id-6 div.sk-label:hover label.sk-toggleable__label {background-color: #d4ebff;}#sk-container-id-6 div.sk-serial::before {content: \"\";position: absolute;border-left: 1px solid gray;box-sizing: border-box;top: 0;bottom: 0;left: 50%;z-index: 0;}#sk-container-id-6 div.sk-serial {display: flex;flex-direction: column;align-items: center;background-color: white;padding-right: 0.2em;padding-left: 0.2em;position: relative;}#sk-container-id-6 div.sk-item {position: relative;z-index: 1;}#sk-container-id-6 div.sk-parallel {display: flex;align-items: stretch;justify-content: center;background-color: white;position: relative;}#sk-container-id-6 div.sk-item::before, #sk-container-id-6 div.sk-parallel-item::before {content: \"\";position: absolute;border-left: 1px solid gray;box-sizing: border-box;top: 0;bottom: 0;left: 50%;z-index: -1;}#sk-container-id-6 div.sk-parallel-item {display: flex;flex-direction: column;z-index: 1;position: relative;background-color: white;}#sk-container-id-6 div.sk-parallel-item:first-child::after {align-self: flex-end;width: 50%;}#sk-container-id-6 div.sk-parallel-item:last-child::after {align-self: flex-start;width: 50%;}#sk-container-id-6 div.sk-parallel-item:only-child::after {width: 0;}#sk-container-id-6 div.sk-dashed-wrapped {border: 1px dashed gray;margin: 0 0.4em 0.5em 0.4em;box-sizing: border-box;padding-bottom: 0.4em;background-color: white;}#sk-container-id-6 div.sk-label label {font-family: monospace;font-weight: bold;display: inline-block;line-height: 1.2em;}#sk-container-id-6 div.sk-label-container {text-align: center;}#sk-container-id-6 div.sk-container {/* jupyter's `normalize.less` sets `[hidden] { display: none; }` but bootstrap.min.css set `[hidden] { display: none !important; }` so we also need the `!important` here to be able to override the default hidden behavior on the sphinx rendered scikit-learn.org. See: https://github.com/scikit-learn/scikit-learn/issues/21755 */display: inline-block !important;position: relative;}#sk-container-id-6 div.sk-text-repr-fallback {display: none;}</style><div id=\"sk-container-id-6\" class=\"sk-top-container\"><div class=\"sk-text-repr-fallback\"><pre>GradientBoostingClassifier()</pre><b>In a Jupyter environment, please rerun this cell to show the HTML representation or trust the notebook. <br />On GitHub, the HTML representation is unable to render, please try loading this page with nbviewer.org.</b></div><div class=\"sk-container\" hidden><div class=\"sk-item\"><div class=\"sk-estimator sk-toggleable\"><input class=\"sk-toggleable__control sk-hidden--visually\" id=\"sk-estimator-id-6\" type=\"checkbox\" checked><label for=\"sk-estimator-id-6\" class=\"sk-toggleable__label sk-toggleable__label-arrow\">GradientBoostingClassifier</label><div class=\"sk-toggleable__content\"><pre>GradientBoostingClassifier()</pre></div></div></div></div></div>"
      ],
      "text/plain": [
       "GradientBoostingClassifier()"
      ]
     },
     "execution_count": 36,
     "metadata": {},
     "output_type": "execute_result"
    }
   ],
   "source": [
    "gb = ensemble.GradientBoostingClassifier()\n",
    "gb"
   ]
  },
  {
   "cell_type": "code",
   "execution_count": 37,
   "id": "4e55dd22",
   "metadata": {},
   "outputs": [
    {
     "data": {
      "text/plain": [
       "0.9642537980339589"
      ]
     },
     "execution_count": 37,
     "metadata": {},
     "output_type": "execute_result"
    }
   ],
   "source": [
    "gb.fit(X_train, y_train)\n",
    "gb.score(X_train, y_train)"
   ]
  },
  {
   "cell_type": "code",
   "execution_count": 38,
   "id": "fd53c1a4",
   "metadata": {},
   "outputs": [],
   "source": [
    "gb_pred = gb.predict(X_test)"
   ]
  },
  {
   "cell_type": "code",
   "execution_count": 39,
   "id": "51199319",
   "metadata": {},
   "outputs": [
    {
     "data": {
      "image/png": "[encoded data removed]",
      "text/plain": [
       "<Figure size 720x432 with 1 Axes>"
      ]
     },
     "metadata": {
      "needs_background": "light"
     },
     "output_type": "display_data"
    }
   ],
   "source": [
    "feature_importance_gb = plot_feature_importance('Gradient Boosting', gb.feature_importances_)"
   ]
  },
  {
   "cell_type": "markdown",
   "id": "91a88ed0",
   "metadata": {},
   "source": [
    "## **📝 Evaluate Model Performance**\n"
   ]
  },
  {
   "cell_type": "markdown",
   "id": "3182b457",
   "metadata": {},
   "source": [
    "### Classification Metrics"
   ]
  },
  {
   "cell_type": "markdown",
   "id": "7aae3d86",
   "metadata": {},
   "source": [
    "We will use ROC-AUC to evaluate the model performance.\n",
    "\n",
    "ROC-AUC (Receiver Operating Characteristic - Area Under the Curve) is a binary classification model evaluation measure. It assesses a model's ability to discriminate between positive and negative classes across all classification thresholds.\n",
    "\n",
    "ROC-AUC is robust to imbalanced datasets, unlike accuracy which can be misleading when the class distribution is skewed. Hence, ROC-AUC is more appropriate than accuracy when the dataset is imbalanced."
   ]
  },
  {
   "cell_type": "code",
   "execution_count": 40,
   "id": "943d9ff8-4011-4ea3-b3a1-0063e0bf0b05",
   "metadata": {
    "scrolled": false
   },
   "outputs": [
    {
     "name": "stdout",
     "output_type": "stream",
     "text": [
      "Decision Tree Classifier:\n",
      "ROC-AUC score: 0.773680026020021\n",
      "Accuracy score: 0.86875\n",
      "Classification Report:\n",
      "                    pre       rec       spe        f1       geo       iba       sup\n",
      "\n",
      "          0       0.94      0.91      0.64      0.92      0.76      0.60       413\n",
      "          1       0.52      0.64      0.91      0.58      0.76      0.57        67\n",
      "\n",
      "avg / total       0.88      0.87      0.68      0.87      0.76      0.59       480\n",
      "\n",
      "K Nearest Neighbors Classifier:\n",
      "ROC-AUC score: 0.8132160023128907\n",
      "Accuracy score: 0.89375\n",
      "Classification Report:\n",
      "                    pre       rec       spe        f1       geo       iba       sup\n",
      "\n",
      "          0       0.95      0.92      0.70      0.94      0.81      0.66       413\n",
      "          1       0.60      0.70      0.92      0.65      0.81      0.63        67\n",
      "\n",
      "avg / total       0.90      0.89      0.73      0.90      0.81      0.66       480\n",
      "\n",
      "\n",
      "Logistic Regression Classifier:\n",
      "ROC-AUC score: 0.8311228361822848\n",
      "Accuracy score: 0.7416666666666667\n",
      "Classification Report:\n",
      "                    pre       rec       spe        f1       geo       iba       sup\n",
      "\n",
      "          0       0.99      0.71      0.96      0.82      0.82      0.66       413\n",
      "          1       0.35      0.96      0.71      0.51      0.82      0.69        67\n",
      "\n",
      "avg / total       0.90      0.74      0.92      0.78      0.82      0.66       480\n",
      "\n",
      "\n",
      "Random Forest Classifier:\n",
      "ROC-AUC score: 0.7208449279028586\n",
      "Accuracy score: 0.8854166666666666\n",
      "Classification Report:\n",
      "                    pre       rec       spe        f1       geo       iba       sup\n",
      "\n",
      "          0       0.92      0.95      0.49      0.93      0.68      0.49       413\n",
      "          1       0.61      0.49      0.95      0.55      0.68      0.45        67\n",
      "\n",
      "avg / total       0.88      0.89      0.56      0.88      0.68      0.48       480\n",
      "\n",
      "\n",
      "Extra Trees Classifier:\n",
      "ROC-AUC score: 0.7492862563694843\n",
      "Accuracy score: 0.9020833333333333\n",
      "Classification Report:\n",
      "                    pre       rec       spe        f1       geo       iba       sup\n",
      "\n",
      "          0       0.93      0.96      0.54      0.94      0.72      0.54       413\n",
      "          1       0.69      0.54      0.96      0.61      0.72      0.49        67\n",
      "\n",
      "avg / total       0.89      0.90      0.60      0.90      0.72      0.53       480\n",
      "\n",
      "\n",
      "Gradient Boosting Classifier:\n",
      "ROC-AUC score: 0.6649741606736294\n",
      "Accuracy score: 0.8645833333333334\n",
      "Classification Report:\n",
      "                    pre       rec       spe        f1       geo       iba       sup\n",
      "\n",
      "          0       0.90      0.94      0.39      0.92      0.60      0.39       413\n",
      "          1       0.52      0.39      0.94      0.44      0.60      0.35        67\n",
      "\n",
      "avg / total       0.85      0.86      0.47      0.86      0.60      0.38       480\n",
      "\n"
     ]
    }
   ],
   "source": [
    "print(\"Decision Tree Classifier:\")\n",
    "print(\"ROC-AUC score:\", roc_auc_score(y_test, dt_pred))\n",
    "print(\"Accuracy score:\", accuracy_score(y_test, dt_pred))\n",
    "print(\"Classification Report:\\n\", classification_report_imbalanced(y_test, dt_pred))\n",
    "\n",
    "print(\"K Nearest Neighbors Classifier:\")\n",
    "print(\"ROC-AUC score:\", roc_auc_score(y_test, knn_pred))\n",
    "print(\"Accuracy score:\", accuracy_score(y_test, knn_pred))\n",
    "print(\"Classification Report:\\n\", classification_report_imbalanced(y_test, knn_pred))\n",
    "\n",
    "print(\"\\nLogistic Regression Classifier:\")\n",
    "print(\"ROC-AUC score:\", roc_auc_score(y_test, lr_pred))\n",
    "print(\"Accuracy score:\", accuracy_score(y_test, lr_pred))\n",
    "print(\"Classification Report:\\n\", classification_report_imbalanced(y_test, lr_pred))\n",
    "\n",
    "print(\"\\nRandom Forest Classifier:\")\n",
    "print(\"ROC-AUC score:\", roc_auc_score(y_test, rf_pred))\n",
    "print(\"Accuracy score:\", accuracy_score(y_test, rf_pred))\n",
    "print(\"Classification Report:\\n\", classification_report_imbalanced(y_test, rf_pred))\n",
    "\n",
    "print(\"\\nExtra Trees Classifier:\")\n",
    "print(\"ROC-AUC score:\", roc_auc_score(y_test, et_pred))\n",
    "print(\"Accuracy score:\", accuracy_score(y_test, et_pred))\n",
    "print(\"Classification Report:\\n\", classification_report_imbalanced(y_test, et_pred))\n",
    "\n",
    "print(\"\\nGradient Boosting Classifier:\")\n",
    "print(\"ROC-AUC score:\", roc_auc_score(y_test, gb_pred))\n",
    "print(\"Accuracy score:\", accuracy_score(y_test, gb_pred))\n",
    "print(\"Classification Report:\\n\", classification_report_imbalanced(y_test, gb_pred))"
   ]
  },
  {
   "cell_type": "markdown",
   "id": "f962f115",
   "metadata": {},
   "source": [
    "**Model Comparison**"
   ]
  },
  {
   "cell_type": "code",
   "execution_count": 41,
   "id": "19f4f421",
   "metadata": {},
   "outputs": [
    {
     "data": {
      "image/png": "[encoded data removed]",
      "text/plain": [
       "<Figure size 720x432 with 1 Axes>"
      ]
     },
     "metadata": {
      "needs_background": "light"
     },
     "output_type": "display_data"
    }
   ],
   "source": [
    "models = ['Decision Tree', 'KNN', 'Logistic Regression', 'Random Forest', 'Extra Trees', 'Gradient Boosting']\n",
    "roc_auc = [roc_auc_score(y_test, dt_pred), roc_auc_score(y_test, knn_pred), roc_auc_score(y_test, lr_pred), \n",
    "           roc_auc_score(y_test, rf_pred), roc_auc_score(y_test, et_pred), roc_auc_score(y_test, gb_pred)]\n",
    "\n",
    "plt.figure(figsize = (10, 6))\n",
    "sns.barplot(x = models, y = roc_auc)\n",
    "plt.title('Model ROC-AUC Comparison')\n",
    "plt.xlabel('Model')\n",
    "plt.ylabel('ROC-AUC')\n",
    "plt.ylim(0.3, 1.0)\n",
    "plt.show()"
   ]
  },
  {
   "cell_type": "markdown",
   "id": "aa07fb07",
   "metadata": {},
   "source": [
    "**`Logistic Regression`** outperforms the rest with a `ROC-AUC` score of **83%**. While **`Gradient Boosting`** got the lowest score."
   ]
  },
  {
   "cell_type": "markdown",
   "id": "63db3a75",
   "metadata": {},
   "source": [
    "###  K-fold cross-validation"
   ]
  },
  {
   "cell_type": "code",
   "execution_count": 42,
   "id": "f931de3c",
   "metadata": {},
   "outputs": [],
   "source": [
    "kfold = 7\n",
    "\n",
    "dt_score = cvs(dt, X, y, cv = kfold, scoring = 'roc_auc')\n",
    "knn_score = cvs(knn, X, y, cv = kfold, scoring = 'roc_auc')\n",
    "lr_score = cvs(lr, X, y, cv = kfold, scoring = 'roc_auc')\n",
    "rf_score = cvs(rf, X, y, cv = kfold, scoring = 'roc_auc')\n",
    "et_score = cvs(et, X, y, cv = kfold, scoring = 'roc_auc')\n",
    "gb_score = cvs(gb, X, y, cv = kfold, scoring = 'roc_auc')"
   ]
  },
  {
   "cell_type": "code",
   "execution_count": 43,
   "id": "f9459996",
   "metadata": {
    "scrolled": false
   },
   "outputs": [
    {
     "name": "stdout",
     "output_type": "stream",
     "text": [
      "Decision Tree Classifier:\n",
      "ROC-AUC for each fold:\n",
      " [0.59775171 0.68540241 0.6611274  0.76584248 0.5189946  0.77435729\n",
      " 0.70984117]\n",
      "Mean roc-auc: 0.6733310082745158\n",
      "Standard deviation: 0.08445140517324776\n",
      "\n",
      "K Nearest Neighbors Classifier:\n",
      "ROC-AUC for each fold:\n",
      " [0.59522646 0.62341153 0.62984686 0.78197151 0.71508105 0.73030948\n",
      " 0.70894056]\n",
      "Mean roc-auc: 0.6835410645792176\n",
      "Standard deviation: 0.0630349568121342\n",
      "\n",
      "Logistic Regression Classifier:\n",
      "ROC-AUC for each fold:\n",
      " [0.89931574 0.87292278 0.86249593 0.93908629 0.80727035 0.870804\n",
      " 0.84132962]\n",
      "Mean roc-auc: 0.8704606711811558\n",
      "Standard deviation: 0.038643689799665634\n",
      "\n",
      "Random Forest Classifier:\n",
      "ROC-AUC for each fold:\n",
      " [0.88913327 0.88530466 0.84506354 0.89086294 0.80849844 0.90903881\n",
      " 0.82921238]\n",
      "Mean roc-auc: 0.8653020060012038\n",
      "Standard deviation: 0.03479122618751499\n",
      "\n",
      "Extra Trees Classifier:\n",
      "ROC-AUC for each fold:\n",
      " [0.89695341 0.90803193 0.85418703 0.88930735 0.79670869 0.90699198\n",
      " 0.84714262]\n",
      "Mean roc-auc: 0.8713318593783634\n",
      "Standard deviation: 0.03788290638705021\n",
      "\n",
      "Gradient Boosting Classifier:\n",
      "ROC-AUC for each fold:\n",
      " [0.9173998  0.88432714 0.85125448 0.91878173 0.75831014 0.88996234\n",
      " 0.81463894]\n",
      "Mean roc-auc: 0.862096366599396\n",
      "Standard deviation: 0.05435827653296161\n"
     ]
    }
   ],
   "source": [
    "print(\"Decision Tree Classifier:\")\n",
    "print(\"ROC-AUC for each fold:\\n\", dt_score)\n",
    "print(\"Mean roc-auc:\", dt_score.mean())\n",
    "print(\"Standard deviation:\", dt_score.std())\n",
    "\n",
    "print(\"\\nK Nearest Neighbors Classifier:\")\n",
    "print(\"ROC-AUC for each fold:\\n\", knn_score)\n",
    "print(\"Mean roc-auc:\", knn_score.mean())\n",
    "print(\"Standard deviation:\", knn_score.std())\n",
    "\n",
    "print(\"\\nLogistic Regression Classifier:\")\n",
    "print(\"ROC-AUC for each fold:\\n\", lr_score)\n",
    "print(\"Mean roc-auc:\", lr_score.mean())\n",
    "print(\"Standard deviation:\", lr_score.std())\n",
    "\n",
    "print(\"\\nRandom Forest Classifier:\")\n",
    "print(\"ROC-AUC for each fold:\\n\", rf_score)\n",
    "print(\"Mean roc-auc:\", rf_score.mean())\n",
    "print(\"Standard deviation:\", rf_score.std())\n",
    "\n",
    "print(\"\\nExtra Trees Classifier:\")\n",
    "print(\"ROC-AUC for each fold:\\n\", et_score)\n",
    "print(\"Mean roc-auc:\", et_score.mean())\n",
    "print(\"Standard deviation:\", et_score.std())\n",
    "\n",
    "print(\"\\nGradient Boosting Classifier:\")\n",
    "print(\"ROC-AUC for each fold:\\n\", gb_score)\n",
    "print(\"Mean roc-auc:\", gb_score.mean())\n",
    "print(\"Standard deviation:\", gb_score.std())"
   ]
  },
  {
   "cell_type": "markdown",
   "id": "5a6a7a12",
   "metadata": {},
   "source": [
    "**Model Comparison**"
   ]
  },
  {
   "cell_type": "code",
   "execution_count": 44,
   "id": "1e2f790b",
   "metadata": {},
   "outputs": [
    {
     "data": {
      "image/png": "[encoded data removed]",
      "text/plain": [
       "<Figure size 720x432 with 1 Axes>"
      ]
     },
     "metadata": {
      "needs_background": "light"
     },
     "output_type": "display_data"
    }
   ],
   "source": [
    "mean_roc_auc = [dt_score.mean(), knn_score.mean(), lr_score.mean(), rf_score.mean(), et_score.mean(), gb_score.mean()]\n",
    "\n",
    "plt.figure(figsize = (10, 6))\n",
    "sns.barplot(x = models, y = mean_roc_auc)\n",
    "plt.title('ROC-AUC mean Comparison using 7-fold Cross Validation')\n",
    "plt.xlabel('Model')\n",
    "plt.ylabel('ROC-AUC')\n",
    "plt.ylim(0.3, 1.0)\n",
    "plt.show()"
   ]
  },
  {
   "cell_type": "markdown",
   "id": "361920d5",
   "metadata": {},
   "source": [
    "The score was based on the mean of 7 fold cross validation. **`Extra Trees`** emerged on top with a `ROC-AUC` mean of **88%**. **`Random Forest`** and **`Gradient Boosting`** also performed better than their previous models in hold-out method, whilst **`Decision Tree`** and **`KNN`** dropped scores compared to their previous models in hold-out method."
   ]
  },
  {
   "cell_type": "markdown",
   "id": "200369fe",
   "metadata": {},
   "source": [
    "## **📈 Resampling**"
   ]
  },
  {
   "cell_type": "markdown",
   "id": "1af33db1",
   "metadata": {},
   "source": [
    "### ADASYN"
   ]
  },
  {
   "cell_type": "markdown",
   "id": "dad7fac2",
   "metadata": {},
   "source": [
    "Oversample using `Adaptive Synthetic (ADASYN)` algorithm.\n",
    "\n",
    "This method is similar to SMOTE but it generates different number of samples depending on an estimate of the local distribution of the class to be oversampled."
   ]
  },
  {
   "cell_type": "markdown",
   "id": "a7a16de4",
   "metadata": {},
   "source": [
    "**Data Preprocessing**"
   ]
  },
  {
   "cell_type": "code",
   "execution_count": 45,
   "id": "4de2f57b",
   "metadata": {
    "scrolled": true
   },
   "outputs": [
    {
     "data": {
      "text/html": [
       "<div>\n",
       "<style scoped>\n",
       "    .dataframe tbody tr th:only-of-type {\n",
       "        vertical-align: middle;\n",
       "    }\n",
       "\n",
       "    .dataframe tbody tr th {\n",
       "        vertical-align: top;\n",
       "    }\n",
       "\n",
       "    .dataframe thead th {\n",
       "        text-align: right;\n",
       "    }\n",
       "</style>\n",
       "<table border=\"1\" class=\"dataframe\">\n",
       "  <thead>\n",
       "    <tr style=\"text-align: right;\">\n",
       "      <th></th>\n",
       "      <th>fixed acidity</th>\n",
       "      <th>volatile acidity</th>\n",
       "      <th>citric acid</th>\n",
       "      <th>residual sugar</th>\n",
       "      <th>chlorides</th>\n",
       "      <th>free sulfur dioxide</th>\n",
       "      <th>total sulfur dioxide</th>\n",
       "      <th>density</th>\n",
       "      <th>pH</th>\n",
       "      <th>sulphates</th>\n",
       "      <th>alcohol</th>\n",
       "      <th>quality</th>\n",
       "    </tr>\n",
       "  </thead>\n",
       "  <tbody>\n",
       "    <tr>\n",
       "      <th>0</th>\n",
       "      <td>7.4</td>\n",
       "      <td>0.70</td>\n",
       "      <td>0.00</td>\n",
       "      <td>1.9</td>\n",
       "      <td>0.076</td>\n",
       "      <td>11.0</td>\n",
       "      <td>34.0</td>\n",
       "      <td>0.9978</td>\n",
       "      <td>3.51</td>\n",
       "      <td>0.56</td>\n",
       "      <td>9.4</td>\n",
       "      <td>Bad</td>\n",
       "    </tr>\n",
       "    <tr>\n",
       "      <th>1</th>\n",
       "      <td>7.8</td>\n",
       "      <td>0.88</td>\n",
       "      <td>0.00</td>\n",
       "      <td>2.6</td>\n",
       "      <td>0.098</td>\n",
       "      <td>25.0</td>\n",
       "      <td>67.0</td>\n",
       "      <td>0.9968</td>\n",
       "      <td>3.20</td>\n",
       "      <td>0.68</td>\n",
       "      <td>9.8</td>\n",
       "      <td>Bad</td>\n",
       "    </tr>\n",
       "    <tr>\n",
       "      <th>2</th>\n",
       "      <td>7.8</td>\n",
       "      <td>0.76</td>\n",
       "      <td>0.04</td>\n",
       "      <td>2.3</td>\n",
       "      <td>0.092</td>\n",
       "      <td>15.0</td>\n",
       "      <td>54.0</td>\n",
       "      <td>0.9970</td>\n",
       "      <td>3.26</td>\n",
       "      <td>0.65</td>\n",
       "      <td>9.8</td>\n",
       "      <td>Bad</td>\n",
       "    </tr>\n",
       "    <tr>\n",
       "      <th>3</th>\n",
       "      <td>11.2</td>\n",
       "      <td>0.28</td>\n",
       "      <td>0.56</td>\n",
       "      <td>1.9</td>\n",
       "      <td>0.075</td>\n",
       "      <td>17.0</td>\n",
       "      <td>60.0</td>\n",
       "      <td>0.9980</td>\n",
       "      <td>3.16</td>\n",
       "      <td>0.58</td>\n",
       "      <td>9.8</td>\n",
       "      <td>Bad</td>\n",
       "    </tr>\n",
       "    <tr>\n",
       "      <th>4</th>\n",
       "      <td>7.4</td>\n",
       "      <td>0.70</td>\n",
       "      <td>0.00</td>\n",
       "      <td>1.9</td>\n",
       "      <td>0.076</td>\n",
       "      <td>11.0</td>\n",
       "      <td>34.0</td>\n",
       "      <td>0.9978</td>\n",
       "      <td>3.51</td>\n",
       "      <td>0.56</td>\n",
       "      <td>9.4</td>\n",
       "      <td>Bad</td>\n",
       "    </tr>\n",
       "    <tr>\n",
       "      <th>5</th>\n",
       "      <td>7.4</td>\n",
       "      <td>0.66</td>\n",
       "      <td>0.00</td>\n",
       "      <td>1.8</td>\n",
       "      <td>0.075</td>\n",
       "      <td>13.0</td>\n",
       "      <td>40.0</td>\n",
       "      <td>0.9978</td>\n",
       "      <td>3.51</td>\n",
       "      <td>0.56</td>\n",
       "      <td>9.4</td>\n",
       "      <td>Bad</td>\n",
       "    </tr>\n",
       "    <tr>\n",
       "      <th>6</th>\n",
       "      <td>7.9</td>\n",
       "      <td>0.60</td>\n",
       "      <td>0.06</td>\n",
       "      <td>1.6</td>\n",
       "      <td>0.069</td>\n",
       "      <td>15.0</td>\n",
       "      <td>59.0</td>\n",
       "      <td>0.9964</td>\n",
       "      <td>3.30</td>\n",
       "      <td>0.46</td>\n",
       "      <td>9.4</td>\n",
       "      <td>Bad</td>\n",
       "    </tr>\n",
       "    <tr>\n",
       "      <th>7</th>\n",
       "      <td>7.3</td>\n",
       "      <td>0.65</td>\n",
       "      <td>0.00</td>\n",
       "      <td>1.2</td>\n",
       "      <td>0.065</td>\n",
       "      <td>15.0</td>\n",
       "      <td>21.0</td>\n",
       "      <td>0.9946</td>\n",
       "      <td>3.39</td>\n",
       "      <td>0.47</td>\n",
       "      <td>10.0</td>\n",
       "      <td>Good</td>\n",
       "    </tr>\n",
       "    <tr>\n",
       "      <th>8</th>\n",
       "      <td>7.8</td>\n",
       "      <td>0.58</td>\n",
       "      <td>0.02</td>\n",
       "      <td>2.0</td>\n",
       "      <td>0.073</td>\n",
       "      <td>9.0</td>\n",
       "      <td>18.0</td>\n",
       "      <td>0.9968</td>\n",
       "      <td>3.36</td>\n",
       "      <td>0.57</td>\n",
       "      <td>9.5</td>\n",
       "      <td>Good</td>\n",
       "    </tr>\n",
       "  </tbody>\n",
       "</table>\n",
       "</div>"
      ],
      "text/plain": [
       "   fixed acidity  volatile acidity  citric acid  residual sugar  chlorides  \\\n",
       "0            7.4              0.70         0.00             1.9      0.076   \n",
       "1            7.8              0.88         0.00             2.6      0.098   \n",
       "2            7.8              0.76         0.04             2.3      0.092   \n",
       "3           11.2              0.28         0.56             1.9      0.075   \n",
       "4            7.4              0.70         0.00             1.9      0.076   \n",
       "5            7.4              0.66         0.00             1.8      0.075   \n",
       "6            7.9              0.60         0.06             1.6      0.069   \n",
       "7            7.3              0.65         0.00             1.2      0.065   \n",
       "8            7.8              0.58         0.02             2.0      0.073   \n",
       "\n",
       "   free sulfur dioxide  total sulfur dioxide  density    pH  sulphates  \\\n",
       "0                 11.0                  34.0   0.9978  3.51       0.56   \n",
       "1                 25.0                  67.0   0.9968  3.20       0.68   \n",
       "2                 15.0                  54.0   0.9970  3.26       0.65   \n",
       "3                 17.0                  60.0   0.9980  3.16       0.58   \n",
       "4                 11.0                  34.0   0.9978  3.51       0.56   \n",
       "5                 13.0                  40.0   0.9978  3.51       0.56   \n",
       "6                 15.0                  59.0   0.9964  3.30       0.46   \n",
       "7                 15.0                  21.0   0.9946  3.39       0.47   \n",
       "8                  9.0                  18.0   0.9968  3.36       0.57   \n",
       "\n",
       "   alcohol quality  \n",
       "0      9.4     Bad  \n",
       "1      9.8     Bad  \n",
       "2      9.8     Bad  \n",
       "3      9.8     Bad  \n",
       "4      9.4     Bad  \n",
       "5      9.4     Bad  \n",
       "6      9.4     Bad  \n",
       "7     10.0    Good  \n",
       "8      9.5    Good  "
      ]
     },
     "execution_count": 45,
     "metadata": {},
     "output_type": "execute_result"
    }
   ],
   "source": [
    "eda_df1 = eda_df\n",
    "eda_df1['quality'].replace([0, 1], ['Bad', 'Good'], inplace = True)\n",
    "eda_df1.head(9)"
   ]
  },
  {
   "cell_type": "markdown",
   "id": "b29e2e0d",
   "metadata": {},
   "source": [
    "**Identifying Variables**"
   ]
  },
  {
   "cell_type": "code",
   "execution_count": 46,
   "id": "203db6eb",
   "metadata": {},
   "outputs": [],
   "source": [
    "X1 = eda_df1.drop('quality', axis = 1)\n",
    "y1 = eda_df1['quality']"
   ]
  },
  {
   "cell_type": "markdown",
   "id": "2750f8e4",
   "metadata": {},
   "source": [
    "**Scaling**"
   ]
  },
  {
   "cell_type": "code",
   "execution_count": 47,
   "id": "c2a8f50b",
   "metadata": {},
   "outputs": [],
   "source": [
    "sc = StandardScaler()\n",
    "X1 = sc.fit_transform(X1)"
   ]
  },
  {
   "cell_type": "markdown",
   "id": "132c788a",
   "metadata": {},
   "source": [
    "**Oversampling**"
   ]
  },
  {
   "cell_type": "code",
   "execution_count": 48,
   "id": "ed5b951c",
   "metadata": {},
   "outputs": [],
   "source": [
    "adasyn = ADASYN(n_neighbors = 5, random_state = 42)\n",
    "X_adasyn, y_adasyn = adasyn.fit_resample(X1, y1)"
   ]
  },
  {
   "cell_type": "markdown",
   "id": "14597c0d",
   "metadata": {},
   "source": [
    "**Plotting Values Count**"
   ]
  },
  {
   "cell_type": "code",
   "execution_count": 49,
   "id": "f4987c67",
   "metadata": {},
   "outputs": [
    {
     "data": {
      "image/png": "[encoded data removed]",
      "text/plain": [
       "<Figure size 864x432 with 2 Axes>"
      ]
     },
     "metadata": {
      "needs_background": "light"
     },
     "output_type": "display_data"
    }
   ],
   "source": [
    "plt.figure(figsize = (12, 6))\n",
    "ax1 = plt.subplot(1, 2, 1)\n",
    "sns.countplot(x = y1, ax = ax1)\n",
    "plt.title('Class Distribution before ADASYN')\n",
    "\n",
    "for p in ax1.patches:\n",
    "    ax1.annotate(f'{p.get_height()}', (p.get_x() + p.get_width() / 2., p.get_height()), ha = 'center', va = 'baseline')\n",
    "\n",
    "ax2 = plt.subplot(1, 2, 2)\n",
    "sns.countplot(x = y_adasyn, ax = ax2)\n",
    "plt.title('Class Distribution after ADASYN')\n",
    "\n",
    "for p in ax2.patches:\n",
    "    ax2.annotate(f'{p.get_height()}', (p.get_x() + p.get_width() / 2., p.get_height()), ha = 'center', va = 'baseline')\n",
    "\n",
    "plt.show()"
   ]
  },
  {
   "cell_type": "markdown",
   "id": "2ce710b0",
   "metadata": {},
   "source": [
    "In the oversampling method, `ADASYN` algorithm generated **1182** synthetic data. "
   ]
  },
  {
   "cell_type": "markdown",
   "id": "19bfc211",
   "metadata": {},
   "source": [
    "**Splitting**"
   ]
  },
  {
   "cell_type": "code",
   "execution_count": 50,
   "id": "7879568a",
   "metadata": {},
   "outputs": [],
   "source": [
    "X_train1, X_test1, y_train1, y_test1 = tts(X_adasyn, y_adasyn, test_size = 0.3, random_state = 1)"
   ]
  },
  {
   "cell_type": "markdown",
   "id": "b48095fe",
   "metadata": {},
   "source": [
    "**Model Training and Testing**"
   ]
  },
  {
   "cell_type": "code",
   "execution_count": 51,
   "id": "2211bcd4",
   "metadata": {},
   "outputs": [
    {
     "data": {
      "text/plain": [
       "1.0"
      ]
     },
     "execution_count": 51,
     "metadata": {},
     "output_type": "execute_result"
    }
   ],
   "source": [
    "dt.fit(X_train1, y_train1)\n",
    "dt.score(X_train1, y_train1)"
   ]
  },
  {
   "cell_type": "code",
   "execution_count": 52,
   "id": "d39edd64",
   "metadata": {},
   "outputs": [],
   "source": [
    "dt_pred1 = dt.predict(X_test1)"
   ]
  },
  {
   "cell_type": "code",
   "execution_count": 53,
   "id": "b78faa79",
   "metadata": {},
   "outputs": [
    {
     "data": {
      "image/png": "[encoded data removed]",
      "text/plain": [
       "<Figure size 720x432 with 1 Axes>"
      ]
     },
     "metadata": {
      "needs_background": "light"
     },
     "output_type": "display_data"
    }
   ],
   "source": [
    "feature_importance_dt1 = plot_feature_importance('Decision Tree - ', dt.feature_importances_)"
   ]
  },
  {
   "cell_type": "code",
   "execution_count": 54,
   "id": "31fa40f9",
   "metadata": {},
   "outputs": [
    {
     "data": {
      "text/plain": [
       "1.0"
      ]
     },
     "execution_count": 54,
     "metadata": {},
     "output_type": "execute_result"
    }
   ],
   "source": [
    "knn.fit(X_train1, y_train1)\n",
    "knn.score(X_train1, y_train1)"
   ]
  },
  {
   "cell_type": "code",
   "execution_count": 55,
   "id": "da467f4b",
   "metadata": {},
   "outputs": [],
   "source": [
    "knn_pred1 = knn.predict(X_test1)"
   ]
  },
  {
   "cell_type": "code",
   "execution_count": 56,
   "id": "9a6230b3",
   "metadata": {},
   "outputs": [
    {
     "data": {
      "text/html": [
       "<style>#sk-container-id-7 {color: black;}#sk-container-id-7 pre{padding: 0;}#sk-container-id-7 div.sk-toggleable {background-color: white;}#sk-container-id-7 label.sk-toggleable__label {cursor: pointer;display: block;width: 100%;margin-bottom: 0;padding: 0.3em;box-sizing: border-box;text-align: center;}#sk-container-id-7 label.sk-toggleable__label-arrow:before {content: \"▸\";float: left;margin-right: 0.25em;color: #696969;}#sk-container-id-7 label.sk-toggleable__label-arrow:hover:before {color: black;}#sk-container-id-7 div.sk-estimator:hover label.sk-toggleable__label-arrow:before {color: black;}#sk-container-id-7 div.sk-toggleable__content {max-height: 0;max-width: 0;overflow: hidden;text-align: left;background-color: #f0f8ff;}#sk-container-id-7 div.sk-toggleable__content pre {margin: 0.2em;color: black;border-radius: 0.25em;background-color: #f0f8ff;}#sk-container-id-7 input.sk-toggleable__control:checked~div.sk-toggleable__content {max-height: 200px;max-width: 100%;overflow: auto;}#sk-container-id-7 input.sk-toggleable__control:checked~label.sk-toggleable__label-arrow:before {content: \"▾\";}#sk-container-id-7 div.sk-estimator input.sk-toggleable__control:checked~label.sk-toggleable__label {background-color: #d4ebff;}#sk-container-id-7 div.sk-label input.sk-toggleable__control:checked~label.sk-toggleable__label {background-color: #d4ebff;}#sk-container-id-7 input.sk-hidden--visually {border: 0;clip: rect(1px 1px 1px 1px);clip: rect(1px, 1px, 1px, 1px);height: 1px;margin: -1px;overflow: hidden;padding: 0;position: absolute;width: 1px;}#sk-container-id-7 div.sk-estimator {font-family: monospace;background-color: #f0f8ff;border: 1px dotted black;border-radius: 0.25em;box-sizing: border-box;margin-bottom: 0.5em;}#sk-container-id-7 div.sk-estimator:hover {background-color: #d4ebff;}#sk-container-id-7 div.sk-parallel-item::after {content: \"\";width: 100%;border-bottom: 1px solid gray;flex-grow: 1;}#sk-container-id-7 div.sk-label:hover label.sk-toggleable__label {background-color: #d4ebff;}#sk-container-id-7 div.sk-serial::before {content: \"\";position: absolute;border-left: 1px solid gray;box-sizing: border-box;top: 0;bottom: 0;left: 50%;z-index: 0;}#sk-container-id-7 div.sk-serial {display: flex;flex-direction: column;align-items: center;background-color: white;padding-right: 0.2em;padding-left: 0.2em;position: relative;}#sk-container-id-7 div.sk-item {position: relative;z-index: 1;}#sk-container-id-7 div.sk-parallel {display: flex;align-items: stretch;justify-content: center;background-color: white;position: relative;}#sk-container-id-7 div.sk-item::before, #sk-container-id-7 div.sk-parallel-item::before {content: \"\";position: absolute;border-left: 1px solid gray;box-sizing: border-box;top: 0;bottom: 0;left: 50%;z-index: -1;}#sk-container-id-7 div.sk-parallel-item {display: flex;flex-direction: column;z-index: 1;position: relative;background-color: white;}#sk-container-id-7 div.sk-parallel-item:first-child::after {align-self: flex-end;width: 50%;}#sk-container-id-7 div.sk-parallel-item:last-child::after {align-self: flex-start;width: 50%;}#sk-container-id-7 div.sk-parallel-item:only-child::after {width: 0;}#sk-container-id-7 div.sk-dashed-wrapped {border: 1px dashed gray;margin: 0 0.4em 0.5em 0.4em;box-sizing: border-box;padding-bottom: 0.4em;background-color: white;}#sk-container-id-7 div.sk-label label {font-family: monospace;font-weight: bold;display: inline-block;line-height: 1.2em;}#sk-container-id-7 div.sk-label-container {text-align: center;}#sk-container-id-7 div.sk-container {/* jupyter's `normalize.less` sets `[hidden] { display: none; }` but bootstrap.min.css set `[hidden] { display: none !important; }` so we also need the `!important` here to be able to override the default hidden behavior on the sphinx rendered scikit-learn.org. See: https://github.com/scikit-learn/scikit-learn/issues/21755 */display: inline-block !important;position: relative;}#sk-container-id-7 div.sk-text-repr-fallback {display: none;}</style><div id=\"sk-container-id-7\" class=\"sk-top-container\"><div class=\"sk-text-repr-fallback\"><pre>LogisticRegression()</pre><b>In a Jupyter environment, please rerun this cell to show the HTML representation or trust the notebook. <br />On GitHub, the HTML representation is unable to render, please try loading this page with nbviewer.org.</b></div><div class=\"sk-container\" hidden><div class=\"sk-item\"><div class=\"sk-estimator sk-toggleable\"><input class=\"sk-toggleable__control sk-hidden--visually\" id=\"sk-estimator-id-7\" type=\"checkbox\" checked><label for=\"sk-estimator-id-7\" class=\"sk-toggleable__label sk-toggleable__label-arrow\">LogisticRegression</label><div class=\"sk-toggleable__content\"><pre>LogisticRegression()</pre></div></div></div></div></div>"
      ],
      "text/plain": [
       "LogisticRegression()"
      ]
     },
     "execution_count": 56,
     "metadata": {},
     "output_type": "execute_result"
    }
   ],
   "source": [
    "lr1 = LogisticRegression()\n",
    "lr1"
   ]
  },
  {
   "cell_type": "code",
   "execution_count": 57,
   "id": "6b0e0044",
   "metadata": {},
   "outputs": [
    {
     "data": {
      "text/plain": [
       "0.7908530318602262"
      ]
     },
     "execution_count": 57,
     "metadata": {},
     "output_type": "execute_result"
    }
   ],
   "source": [
    "lr1.fit(X_train1, y_train1)\n",
    "lr1.score(X_train1, y_train1)"
   ]
  },
  {
   "cell_type": "code",
   "execution_count": 58,
   "id": "d5487b05",
   "metadata": {},
   "outputs": [],
   "source": [
    "lr_pred1 = lr1.predict(X_test1)"
   ]
  },
  {
   "cell_type": "code",
   "execution_count": 59,
   "id": "60bc32ef",
   "metadata": {},
   "outputs": [
    {
     "data": {
      "image/png": "[encoded data removed]",
      "text/plain": [
       "<Figure size 720x432 with 1 Axes>"
      ]
     },
     "metadata": {
      "needs_background": "light"
     },
     "output_type": "display_data"
    }
   ],
   "source": [
    "coefficients_lr1 = lr1.coef_[0]\n",
    "feature_importance_lr1 = plot_feature_importance('Logistic Regression - ', coefficients_lr1)"
   ]
  },
  {
   "cell_type": "code",
   "execution_count": 60,
   "id": "edcacf6d",
   "metadata": {},
   "outputs": [
    {
     "data": {
      "text/plain": [
       "1.0"
      ]
     },
     "execution_count": 60,
     "metadata": {},
     "output_type": "execute_result"
    }
   ],
   "source": [
    "rf.fit(X_train1, y_train1)\n",
    "rf.score(X_train1, y_train1)"
   ]
  },
  {
   "cell_type": "code",
   "execution_count": 61,
   "id": "66cfcf1b",
   "metadata": {},
   "outputs": [],
   "source": [
    "rf_pred1 = rf.predict(X_test1)"
   ]
  },
  {
   "cell_type": "code",
   "execution_count": 62,
   "id": "8c8c2500",
   "metadata": {},
   "outputs": [
    {
     "data": {
      "image/png": "[encoded data removed]",
      "text/plain": [
       "<Figure size 720x432 with 1 Axes>"
      ]
     },
     "metadata": {
      "needs_background": "light"
     },
     "output_type": "display_data"
    }
   ],
   "source": [
    "feature_importance_rf1 = plot_feature_importance('Random Forest - ', rf.feature_importances_)"
   ]
  },
  {
   "cell_type": "code",
   "execution_count": 63,
   "id": "bcd16750",
   "metadata": {},
   "outputs": [
    {
     "data": {
      "text/plain": [
       "1.0"
      ]
     },
     "execution_count": 63,
     "metadata": {},
     "output_type": "execute_result"
    }
   ],
   "source": [
    "et.fit(X_train1, y_train1)\n",
    "et.score(X_train1, y_train1)"
   ]
  },
  {
   "cell_type": "code",
   "execution_count": 64,
   "id": "3b83e1f7",
   "metadata": {},
   "outputs": [],
   "source": [
    "et_pred1 = et.predict(X_test1)"
   ]
  },
  {
   "cell_type": "code",
   "execution_count": 65,
   "id": "2a4a0082",
   "metadata": {},
   "outputs": [
    {
     "data": {
      "image/png": "[encoded data removed]",
      "text/plain": [
       "<Figure size 720x432 with 1 Axes>"
      ]
     },
     "metadata": {
      "needs_background": "light"
     },
     "output_type": "display_data"
    }
   ],
   "source": [
    "feature_importance_et1 = plot_feature_importance('Extra Trees - ', et.feature_importances_)"
   ]
  },
  {
   "cell_type": "code",
   "execution_count": 66,
   "id": "78a035be",
   "metadata": {},
   "outputs": [
    {
     "data": {
      "text/plain": [
       "0.9403905447070915"
      ]
     },
     "execution_count": 66,
     "metadata": {},
     "output_type": "execute_result"
    }
   ],
   "source": [
    "gb.fit(X_train1, y_train1)\n",
    "gb.score(X_train1, y_train1)"
   ]
  },
  {
   "cell_type": "code",
   "execution_count": 67,
   "id": "82e98807",
   "metadata": {},
   "outputs": [],
   "source": [
    "gb_pred1 = gb.predict(X_test1)"
   ]
  },
  {
   "cell_type": "code",
   "execution_count": 68,
   "id": "b573fa2c",
   "metadata": {},
   "outputs": [
    {
     "data": {
      "image/png": "[encoded data removed]",
      "text/plain": [
       "<Figure size 720x432 with 1 Axes>"
      ]
     },
     "metadata": {
      "needs_background": "light"
     },
     "output_type": "display_data"
    }
   ],
   "source": [
    "feature_importance_gb1 = plot_feature_importance('Gradient Boosting - ', gb.feature_importances_)"
   ]
  },
  {
   "cell_type": "markdown",
   "id": "9f74f9fd",
   "metadata": {},
   "source": [
    "**Model Evaluation**"
   ]
  },
  {
   "cell_type": "code",
   "execution_count": 69,
   "id": "41878dff",
   "metadata": {},
   "outputs": [
    {
     "name": "stdout",
     "output_type": "stream",
     "text": [
      "Decision Tree Classifier:\n",
      "Accuracy score: 0.8826347305389222\n",
      "Classification Report:\n",
      "               precision    recall  f1-score   support\n",
      "\n",
      "         Bad       0.89      0.88      0.88       416\n",
      "        Good       0.88      0.89      0.88       419\n",
      "\n",
      "    accuracy                           0.88       835\n",
      "   macro avg       0.88      0.88      0.88       835\n",
      "weighted avg       0.88      0.88      0.88       835\n",
      "\n",
      "K Nearest Neighbors Classifier:\n",
      "Accuracy score: 0.9353293413173652\n",
      "Classification Report:\n",
      "               precision    recall  f1-score   support\n",
      "\n",
      "         Bad       1.00      0.87      0.93       416\n",
      "        Good       0.89      1.00      0.94       419\n",
      "\n",
      "    accuracy                           0.94       835\n",
      "   macro avg       0.94      0.94      0.94       835\n",
      "weighted avg       0.94      0.94      0.94       835\n",
      "\n",
      "\n",
      "Logistic Regression Classifier:\n",
      "Accuracy score: 0.7868263473053893\n",
      "Classification Report:\n",
      "               precision    recall  f1-score   support\n",
      "\n",
      "         Bad       0.80      0.76      0.78       416\n",
      "        Good       0.77      0.82      0.79       419\n",
      "\n",
      "    accuracy                           0.79       835\n",
      "   macro avg       0.79      0.79      0.79       835\n",
      "weighted avg       0.79      0.79      0.79       835\n",
      "\n",
      "\n",
      "Random Forest Classifier:\n",
      "Accuracy score: 0.9568862275449102\n",
      "Classification Report:\n",
      "               precision    recall  f1-score   support\n",
      "\n",
      "         Bad       0.98      0.93      0.96       416\n",
      "        Good       0.93      0.98      0.96       419\n",
      "\n",
      "    accuracy                           0.96       835\n",
      "   macro avg       0.96      0.96      0.96       835\n",
      "weighted avg       0.96      0.96      0.96       835\n",
      "\n",
      "\n",
      "Extra Trees Classifier:\n",
      "Accuracy score: 0.9652694610778443\n",
      "Classification Report:\n",
      "               precision    recall  f1-score   support\n",
      "\n",
      "         Bad       0.99      0.94      0.96       416\n",
      "        Good       0.94      0.99      0.97       419\n",
      "\n",
      "    accuracy                           0.97       835\n",
      "   macro avg       0.97      0.97      0.97       835\n",
      "weighted avg       0.97      0.97      0.97       835\n",
      "\n",
      "\n",
      "Gradient Boosting Classifier:\n",
      "Accuracy score: 0.911377245508982\n",
      "Classification Report:\n",
      "               precision    recall  f1-score   support\n",
      "\n",
      "         Bad       0.96      0.86      0.91       416\n",
      "        Good       0.87      0.96      0.92       419\n",
      "\n",
      "    accuracy                           0.91       835\n",
      "   macro avg       0.92      0.91      0.91       835\n",
      "weighted avg       0.92      0.91      0.91       835\n",
      "\n"
     ]
    }
   ],
   "source": [
    "print(\"Decision Tree Classifier:\")\n",
    "print(\"Accuracy score:\", accuracy_score(y_test1, dt_pred1))\n",
    "print(\"Classification Report:\\n\", classification_report(y_test1, dt_pred1))\n",
    "\n",
    "print(\"K Nearest Neighbors Classifier:\")\n",
    "print(\"Accuracy score:\", accuracy_score(y_test1, knn_pred1))\n",
    "print(\"Classification Report:\\n\", classification_report(y_test1, knn_pred1))\n",
    "\n",
    "print(\"\\nLogistic Regression Classifier:\")\n",
    "print(\"Accuracy score:\", accuracy_score(y_test1, lr_pred1))\n",
    "print(\"Classification Report:\\n\", classification_report(y_test1, lr_pred1))\n",
    "\n",
    "print(\"\\nRandom Forest Classifier:\")\n",
    "print(\"Accuracy score:\", accuracy_score(y_test1, rf_pred1))\n",
    "print(\"Classification Report:\\n\", classification_report(y_test1, rf_pred1))\n",
    "\n",
    "print(\"\\nExtra Trees Classifier:\")\n",
    "print(\"Accuracy score:\", accuracy_score(y_test1, et_pred1))\n",
    "print(\"Classification Report:\\n\", classification_report(y_test1, et_pred1))\n",
    "\n",
    "print(\"\\nGradient Boosting Classifier:\")\n",
    "print(\"Accuracy score:\", accuracy_score(y_test1, gb_pred1))\n",
    "print(\"Classification Report:\\n\", classification_report(y_test1, gb_pred1))"
   ]
  },
  {
   "cell_type": "markdown",
   "id": "aae265c4",
   "metadata": {},
   "source": [
    "**Model Comparison**"
   ]
  },
  {
   "cell_type": "code",
   "execution_count": 70,
   "id": "177aecdb",
   "metadata": {},
   "outputs": [
    {
     "data": {
      "image/png": "[encoded data removed]",
      "text/plain": [
       "<Figure size 720x432 with 1 Axes>"
      ]
     },
     "metadata": {
      "needs_background": "light"
     },
     "output_type": "display_data"
    }
   ],
   "source": [
    "accuracy = [accuracy_score(y_test1, dt_pred1), accuracy_score(y_test1, knn_pred1), accuracy_score(y_test1, lr_pred1), \n",
    "           accuracy_score(y_test1, rf_pred1), accuracy_score(y_test1, et_pred1), accuracy_score(y_test1, gb_pred1)]\n",
    "\n",
    "plt.figure(figsize = (10, 6))\n",
    "sns.barplot(x = models, y = accuracy)\n",
    "plt.title('Model Accuracy Comparison')\n",
    "plt.xlabel('Model')\n",
    "plt.ylabel('Accuracy')\n",
    "plt.ylim(0.6, 1.0)\n",
    "plt.show()"
   ]
  },
  {
   "cell_type": "markdown",
   "id": "49e674e2",
   "metadata": {},
   "source": [
    "**`Extra Trees`** outperforms the rest with an `accuracy` score of **97%!** While **`Logistic Regression`** got the lowest score."
   ]
  },
  {
   "cell_type": "markdown",
   "id": "d2844f89",
   "metadata": {},
   "source": [
    "**K-fold Cross Validation**"
   ]
  },
  {
   "cell_type": "code",
   "execution_count": 71,
   "id": "1a72e84c",
   "metadata": {},
   "outputs": [],
   "source": [
    "kfold = 7\n",
    "\n",
    "dt_score1 = cvs(dt, X_adasyn, y_adasyn, cv = kfold, scoring = 'accuracy')\n",
    "knn_score1 = cvs(knn, X_adasyn, y_adasyn, cv = kfold, scoring = 'accuracy')\n",
    "lr_score1 = cvs(lr1, X_adasyn, y_adasyn, cv = kfold, scoring = 'accuracy')\n",
    "rf_score1 = cvs(rf, X_adasyn, y_adasyn, cv = kfold, scoring = 'accuracy')\n",
    "et_score1 = cvs(et, X_adasyn, y_adasyn, cv = kfold, scoring = 'accuracy')\n",
    "gb_score1 = cvs(gb, X_adasyn, y_adasyn, cv = kfold, scoring = 'accuracy')"
   ]
  },
  {
   "cell_type": "code",
   "execution_count": 72,
   "id": "f1f46447",
   "metadata": {},
   "outputs": [
    {
     "name": "stdout",
     "output_type": "stream",
     "text": [
      "Decision Tree Classifier:\n",
      "Accuracy for each fold:\n",
      " [0.93718593 0.77889447 0.89168766 0.85894207 0.77833753 0.84382872\n",
      " 0.86649874]\n",
      "Mean Accuracy: 0.8507678731910724\n",
      "Standard deviation: 0.05334105747705966\n",
      "\n",
      "K Nearest Neighbors Classifier:\n",
      "Accuracy for each fold:\n",
      " [0.9321608  0.89698492 0.87153652 0.90680101 0.84382872 0.87405542\n",
      " 0.87657431]\n",
      "Mean Accuracy: 0.8859916712023593\n",
      "Standard deviation: 0.026466409960015723\n",
      "\n",
      "Logistic Regression Classifier:\n",
      "Accuracy for each fold:\n",
      " [0.88944724 0.69849246 0.77329975 0.86901763 0.68010076 0.77581864\n",
      " 0.74055416]\n",
      "Mean Accuracy: 0.7752472329260552\n",
      "Standard deviation: 0.07366565807336341\n",
      "\n",
      "Random Forest Classifier:\n",
      "Accuracy for each fold:\n",
      " [0.96984925 0.83919598 0.92191436 0.91939547 0.84634761 0.92695214\n",
      " 0.86397985]\n",
      "Mean Accuracy: 0.8982335209693664\n",
      "Standard deviation: 0.045218634844377804\n",
      "\n",
      "Extra Trees Classifier:\n",
      "Accuracy for each fold:\n",
      " [0.98241206 0.86432161 0.90428212 0.94206549 0.85894207 0.93450882\n",
      " 0.90428212]\n",
      "Mean Accuracy: 0.9129734675536734\n",
      "Standard deviation: 0.04065413398550901\n",
      "\n",
      "Gradient Boosting Classifier:\n",
      "Accuracy for each fold:\n",
      " [0.90703518 0.78643216 0.88413098 0.9093199  0.76070529 0.87153652\n",
      " 0.83879093]\n",
      "Mean Accuracy: 0.8511358519839212\n",
      "Standard deviation: 0.05415801630989966\n"
     ]
    }
   ],
   "source": [
    "print(\"Decision Tree Classifier:\")\n",
    "print(\"Accuracy for each fold:\\n\", dt_score1)\n",
    "print(\"Mean Accuracy:\", dt_score1.mean())\n",
    "print(\"Standard deviation:\", dt_score1.std())\n",
    "\n",
    "print(\"\\nK Nearest Neighbors Classifier:\")\n",
    "print(\"Accuracy for each fold:\\n\", knn_score1)\n",
    "print(\"Mean Accuracy:\", knn_score1.mean())\n",
    "print(\"Standard deviation:\", knn_score1.std())\n",
    "\n",
    "print(\"\\nLogistic Regression Classifier:\")\n",
    "print(\"Accuracy for each fold:\\n\", lr_score1)\n",
    "print(\"Mean Accuracy:\", lr_score1.mean())\n",
    "print(\"Standard deviation:\", lr_score1.std())\n",
    "\n",
    "print(\"\\nRandom Forest Classifier:\")\n",
    "print(\"Accuracy for each fold:\\n\", rf_score1)\n",
    "print(\"Mean Accuracy:\", rf_score1.mean())\n",
    "print(\"Standard deviation:\", rf_score1.std())\n",
    "\n",
    "print(\"\\nExtra Trees Classifier:\")\n",
    "print(\"Accuracy for each fold:\\n\", et_score1)\n",
    "print(\"Mean Accuracy:\", et_score1.mean())\n",
    "print(\"Standard deviation:\", et_score1.std())\n",
    "\n",
    "print(\"\\nGradient Boosting Classifier:\")\n",
    "print(\"Accuracy for each fold:\\n\", gb_score1)\n",
    "print(\"Mean Accuracy:\", gb_score1.mean())\n",
    "print(\"Standard deviation:\", gb_score1.std())"
   ]
  },
  {
   "cell_type": "code",
   "execution_count": 73,
   "id": "156648b3",
   "metadata": {},
   "outputs": [
    {
     "data": {
      "image/png": "[encoded data removed]",
      "text/plain": [
       "<Figure size 720x432 with 1 Axes>"
      ]
     },
     "metadata": {
      "needs_background": "light"
     },
     "output_type": "display_data"
    }
   ],
   "source": [
    "mean_accuracy = [dt_score1.mean(), knn_score1.mean(), lr_score1.mean(), rf_score1.mean(), et_score1.mean(), gb_score1.mean()]\n",
    "\n",
    "plt.figure(figsize = (10, 6))\n",
    "sns.barplot(x = models, y = mean_accuracy)\n",
    "plt.title('Accuracy mean Comparison using 7-fold Cross Validation')\n",
    "plt.xlabel('Model')\n",
    "plt.ylabel('Accuracy')\n",
    "plt.ylim(0.6, 1.0)\n",
    "plt.show()"
   ]
  },
  {
   "cell_type": "markdown",
   "id": "1d812f49",
   "metadata": {},
   "source": [
    "The accuracy score was based on the mean of 7 fold cross validation. **`Extra Trees`** remained on top with an `accuracy` mean of **91%**. While the rest also got the same ranking from the previous models in hold-out method."
   ]
  },
  {
   "cell_type": "markdown",
   "id": "72c23767-772c-4099-9d45-1c17f49cd113",
   "metadata": {},
   "source": [
    "## 🔢 **Discussion of Results**"
   ]
  },
  {
   "cell_type": "markdown",
   "id": "c2370137",
   "metadata": {},
   "source": [
    "**Hold-out method for the imbalanced dataset:**"
   ]
  },
  {
   "cell_type": "markdown",
   "id": "342d95af",
   "metadata": {},
   "source": [
    "**`Decision Tree Classifier:`**\n",
    "\n",
    "Moderate ROC-AUC score. <br>\n",
    "Higher accuracy, but we should consider the ROC-AUC score due to the imbalanced dataset.\n",
    "Better performance in predicting class 0. \n",
    "\n",
    "\n",
    "**`K Nearest Neighbors Classifier:`**\n",
    "\n",
    "Higher ROC-AUC score than the Decision Tree. <br>\n",
    "Higher accuracy and better balance in predicting both classes.\n",
    "Potentially a better model for this imbalanced dataset.\n",
    "\n",
    "\n",
    "**`Logistic Regression Classifier:`**\n",
    "\n",
    "Highest ROC-AUC score among the models. <br>\n",
    "Lower accuracy, but ROC-AUC is more relevant for imbalanced datasets.\n",
    "Good balance in predicting both classes, especially class 1.\n",
    "\n",
    "\n",
    "**`Random Forest Classifier:`**\n",
    "\n",
    "Moderate ROC-AUC score. <br>\n",
    "High accuracy, but similar considerations as with the Decision Tree.\n",
    "Better performance in predicting class 0.\n",
    "\n",
    "\n",
    "**`Extra Trees Classifier:`**\n",
    "\n",
    "Moderate ROC-AUC score. <br>\n",
    "Similar performance to Random Forest. \n",
    "Better performance in predicting class 0.\n",
    "\n",
    "\n",
    "**`Gradient Boosting Classifier:`**\n",
    "\n",
    "Lower ROC-AUC score compared to other models. <br>\n",
    "Balanced accuracy, but the ROC-AUC indicates challenges in class separation.\n",
    "Less effective in predicting both classes.\n",
    "\n",
    "\n",
    "**`Summary:`**\n",
    "\n",
    "Logistic Regression outperforms other models in terms of ROC-AUC, indicating better class separation on the imbalanced dataset. <br>\n",
    "K Nearest Neighbors also performs well in terms of both ROC-AUC and accuracy. <br>\n",
    "Decision Tree, Random Forest, and Extra Trees show moderate ROC-AUC scores. <br>\n",
    "Gradient Boosting has a lower ROC-AUC score, indicating challenges in distinguishing between classes."
   ]
  },
  {
   "cell_type": "code",
   "execution_count": null,
   "id": "51a73a8b",
   "metadata": {},
   "outputs": [],
   "source": []
  },
  {
   "cell_type": "markdown",
   "id": "b5db2bcf",
   "metadata": {},
   "source": [
    "**7-fold cross validation for the imbalanced dataset:**"
   ]
  },
  {
   "cell_type": "markdown",
   "id": "e9785c15",
   "metadata": {},
   "source": [
    "**`Decision Tree Classifier:`**\n",
    "\n",
    "The Decision Tree classifier shows moderate performance with a mean ROC-AUC of approximately 0.67. <br>\n",
    "The standard deviation indicates some variability across folds.\n",
    "\n",
    "\n",
    "**`K Nearest Neighbors (KNN) Classifier:`**\n",
    "\n",
    "The KNN classifier performs similarly to the Decision Tree with a mean ROC-AUC of around 0.68. <br>\n",
    "The standard deviation suggests moderate variability in performance across folds.\n",
    "\n",
    "\n",
    "**`Logistic Regression Classifier:`**\n",
    "\n",
    "The Logistic Regression classifier demonstrates strong performance with a mean ROC-AUC of approximately 0.87. <br>\n",
    "The lower standard deviation indicates more consistent performance across folds.\n",
    "\n",
    "\n",
    "**`Random Forest Classifier:`**\n",
    "\n",
    "The Random Forest classifier performs well with a mean ROC-AUC of around 0.87. <br>\n",
    "The low standard deviation suggests relatively stable performance across folds.\n",
    "\n",
    "\n",
    "**`Extra Trees Classifier:`**\n",
    "\n",
    "The Extra Trees classifier exhibits strong performance, outperforming both Decision Tree and KNN with a mean ROC-AUC of approximately 0.88. <br>\n",
    "The standard deviation indicates moderate variability.\n",
    "\n",
    "\n",
    "**`Gradient Boosting Classifier:`**\n",
    "\n",
    "The Gradient Boosting classifier performs well, with a mean ROC-AUC of around 0.86. <br>\n",
    "The standard deviation suggests some variability in performance across folds.\n",
    "\n",
    "\n",
    "**`Summary:`**\n",
    "\n",
    "Logistic Regression, Random Forest, and Extra Trees classifiers show the highest mean ROC-AUC values, indicating superior overall performance. <br>\n",
    "Decision Tree and KNN classifiers perform decently but with slightly lower mean ROC-AUC values. <br>\n",
    "The standard deviations provide insights into the stability of performance across different folds; lower standard deviations suggest more consistent performance."
   ]
  },
  {
   "cell_type": "code",
   "execution_count": null,
   "id": "d87c7fa5",
   "metadata": {},
   "outputs": [],
   "source": []
  },
  {
   "cell_type": "markdown",
   "id": "87b0a6f7",
   "metadata": {},
   "source": [
    "**Hold-out method for the oversampled dataset:**"
   ]
  },
  {
   "cell_type": "markdown",
   "id": "fffa50ae",
   "metadata": {},
   "source": [
    "**`Accuracy:`**\n",
    "\n",
    "Extra Trees Classifier achieved the highest accuracy (97.0%), followed by Random Forest (95.1%). <br>\n",
    "Logistic Regression had the lowest accuracy (78.7%).\n",
    "\n",
    "\n",
    "**`Precision and Recall:`**\n",
    "\n",
    "Random Forest and Extra Trees classifiers consistently achieved high precision and recall for both classes. <br>\n",
    "K Nearest Neighbors had perfect precision for the 'Bad' class. <br>\n",
    "Decision Tree, Gradient Boosting, and Logistic Regression showed balanced precision and recall for both classes.\n",
    "\n",
    "\n",
    "**`F1-Score:`**\n",
    "\n",
    "Random Forest, Extra Trees, and K Nearest Neighbors classifiers had high F1-scores. <br>\n",
    "Decision Tree, Gradient Boosting, and Logistic Regression classifiers also demonstrated good F1-scores.\n",
    "\n",
    "\n",
    "**`Summary:`**\n",
    "\n",
    "Random Forest and Extra Trees classifiers performed exceptionally well with high accuracy and balanced precision-recall trade-offs. <br>\n",
    "K Nearest Neighbors achieved a high accuracy score but had slightly imbalanced recall between classes. <br>\n",
    "Decision Tree, Gradient Boosting, and Logistic Regression classifiers showed good overall performance but with lower accuracy compared to ensemble methods. <br>\n",
    "Ensemble methods (Random Forest, Extra Trees) tend to perform well across various scenarios."
   ]
  },
  {
   "cell_type": "code",
   "execution_count": null,
   "id": "8a4b57a5",
   "metadata": {},
   "outputs": [],
   "source": []
  },
  {
   "cell_type": "markdown",
   "id": "2799997b",
   "metadata": {},
   "source": [
    "**7-fold cross validation for the oversampled dataset:**"
   ]
  },
  {
   "cell_type": "markdown",
   "id": "edc932da",
   "metadata": {},
   "source": [
    "**`Decision Tree Classifier:`**\n",
    "\n",
    "The Decision Tree Classifier achieved a decent mean accuracy of 0.845 with a moderate level of variance, indicated by the standard deviation of 0.052. This suggests that the model is reasonably stable across different folds.\n",
    "\n",
    "**`K Nearest Neighbors Classifier:`**\n",
    "\n",
    "The K Nearest Neighbors (KNN) Classifier demonstrated a higher mean accuracy of 0.886 with a lower standard deviation of 0.026. The KNN model appears to be more consistent and performs well across folds.\n",
    "\n",
    "**`Logistic Regression Classifier:`**\n",
    "\n",
    "The Logistic Regression Classifier achieved a mean accuracy of 0.775 with a higher standard deviation of 0.074. The model's performance varies more across folds, indicating potential sensitivity to the data distribution.\n",
    "\n",
    "**`Random Forest Classifier:`**\n",
    "\n",
    "The Random Forest Classifier showed a high mean accuracy of 0.904 with a moderate standard deviation of 0.048. This suggests that the ensemble of decision trees contributes to a robust and accurate model.\n",
    "\n",
    "**`Extra Trees Classifier:`**\n",
    "\n",
    "The Extra Trees Classifier yielded a mean accuracy of 0.908, demonstrating high consistency across folds. The lower standard deviation of 0.036 indicates a stable and reliable model.\n",
    "\n",
    "**`Gradient Boosting Classifier:`**\n",
    "\n",
    "The Gradient Boosting Classifier achieved a mean accuracy of 0.852 with a relatively higher standard deviation of 0.054. While the model is accurate on average, it shows more variability across different folds.\n",
    "\n",
    "**`Summary:`**\n",
    "\n",
    "The Random Forest and Extra Trees classifiers outperformed other models in terms of mean accuracy and stability, with high mean accuracies (0.904 and 0.908, respectively) and lower standard deviations. <br>\n",
    "K Nearest Neighbors also performed well with a high mean accuracy (0.886) and low standard deviation, indicating consistent performance. <br>\n",
    "Decision Tree and Logistic Regression models showed decent performance, but with higher standard deviations, suggesting variability in their performance across folds. <br>\n",
    "Gradient Boosting achieved a good mean accuracy but demonstrated more variability compared to Random Forest and Extra Trees."
   ]
  },
  {
   "cell_type": "markdown",
   "id": "277d87fb",
   "metadata": {},
   "source": [
    "### Comparative Analysis"
   ]
  },
  {
   "cell_type": "markdown",
   "id": "729a37ea",
   "metadata": {},
   "source": [
    "**`Logistic Regression Classifier`** is the best model in predicting the quality of red wine if the dataset is imbalance, and can handle data quite well despite unevenness in both hold-out set method and k-fold cross validation.\n",
    "\n",
    "**`Extra Trees Classifier`** is the best model in predicting the quality of red wine if the dataset is balance in both hold-out set method and k-fold cross validation."
   ]
  },
  {
   "cell_type": "markdown",
   "id": "52bfbf31",
   "metadata": {},
   "source": [
    "### Takeaways"
   ]
  },
  {
   "cell_type": "markdown",
   "id": "d6d67ac3",
   "metadata": {},
   "source": [
    "`Alcohol`, `Volatile Acidity`, and `Sulphates` were the top candidates for the feature importance. They are the top contributors to determine whether a red wine is good or bad. This suggests that better wine qualities consists high alcohol & sulphates percentage, and low volatile acidity percentage.\n",
    "\n",
    "**`Alcohol`** - the percent alcohol content of the wine <br>\n",
    "**`Volatile Acidity`** - the amount of acetic acid in wine, which at too high of levels can lead to an unpleasant, vinegar taste <br>\n",
    "**`Sulphates`** - a wine additive which can contribute to sulfur dioxide gas (S02) levels, which acts as an antimicrobial and antioxidant\n"
   ]
  }
 ],
 "metadata": {
  "kernelspec": {
   "display_name": "Python 3",
   "language": "python",
   "name": "python3"
  },
  "language_info": {
   "codemirror_mode": {
    "name": "ipython",
    "version": 3
   },
   "file_extension": ".py",
   "mimetype": "text/x-python",
   "name": "python",
   "nbconvert_exporter": "python",
   "pygments_lexer": "ipython3",
   "version": "3.8.8"
  }
 },
 "nbformat": 4,
 "nbformat_minor": 5
}
